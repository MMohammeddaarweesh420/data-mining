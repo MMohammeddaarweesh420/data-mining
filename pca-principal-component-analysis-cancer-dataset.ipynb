{
 "cells": [
  {
   "cell_type": "markdown",
   "id": "2d9e35f7",
   "metadata": {
    "papermill": {
     "duration": 0.008238,
     "end_time": "2022-09-03T12:35:20.176513",
     "exception": false,
     "start_time": "2022-09-03T12:35:20.168275",
     "status": "completed"
    },
    "tags": []
   },
   "source": [
    "<a id = \"2\"></a><h1 id=\"Introduction\"><span class=\"label label-default\" style=\"background-color:#D84E5F; border-radius:12px; font-weight: bold; font-family:Verdana; font-size:22px; color:#FBFAFC; \">Import Libraries 👀</span></h1>"
   ]
  },
  {
   "cell_type": "code",
   "execution_count": 1,
   "id": "3b788c1c",
   "metadata": {
    "execution": {
     "iopub.execute_input": "2022-09-03T12:35:20.192519Z",
     "iopub.status.busy": "2022-09-03T12:35:20.191882Z",
     "iopub.status.idle": "2022-09-03T12:35:21.884201Z",
     "shell.execute_reply": "2022-09-03T12:35:21.882674Z"
    },
    "papermill": {
     "duration": 1.703844,
     "end_time": "2022-09-03T12:35:21.887338",
     "exception": false,
     "start_time": "2022-09-03T12:35:20.183494",
     "status": "completed"
    },
    "tags": []
   },
   "outputs": [],
   "source": [
    "import matplotlib.pyplot as plt\n",
    "import pandas as pd\n",
    "import numpy as np\n",
    "import seaborn as sns\n",
    "%matplotlib inline\n",
    "import plotly.graph_objs as go\n",
    "import plotly.offline as py\n",
    "import plotly_express as px\n",
    "\n",
    "import random\n",
    "from sklearn.preprocessing import StandardScaler\n",
    "from sklearn.decomposition import PCA\n",
    "pd.set_option('display.max_columns', None)\n"
   ]
  },
  {
   "cell_type": "markdown",
   "id": "0f4db3bc",
   "metadata": {
    "papermill": {
     "duration": 0.006412,
     "end_time": "2022-09-03T12:35:21.900465",
     "exception": false,
     "start_time": "2022-09-03T12:35:21.894053",
     "status": "completed"
    },
    "tags": []
   },
   "source": [
    "<a id = \"2\"></a><h1 id=\"Introduction\"><span class=\"label label-default\" style=\"background-color:#D84E5F; border-radius:12px; font-weight: bold; font-family:Verdana; font-size:22px; color:#FBFAFC; \">Load and Check Data 🧐</span></h1>"
   ]
  },
  {
   "cell_type": "code",
   "execution_count": 2,
   "id": "0a050109",
   "metadata": {
    "execution": {
     "iopub.execute_input": "2022-09-03T12:35:21.915773Z",
     "iopub.status.busy": "2022-09-03T12:35:21.915367Z",
     "iopub.status.idle": "2022-09-03T12:35:21.942476Z",
     "shell.execute_reply": "2022-09-03T12:35:21.941199Z"
    },
    "papermill": {
     "duration": 0.038246,
     "end_time": "2022-09-03T12:35:21.945437",
     "exception": false,
     "start_time": "2022-09-03T12:35:21.907191",
     "status": "completed"
    },
    "tags": []
   },
   "outputs": [],
   "source": [
    "path = 'data.csv'\n",
    "data = pd.read_csv(path)"
   ]
  },
  {
   "cell_type": "code",
   "execution_count": 3,
   "id": "0742b31f",
   "metadata": {
    "execution": {
     "iopub.execute_input": "2022-09-03T12:35:21.961086Z",
     "iopub.status.busy": "2022-09-03T12:35:21.960666Z",
     "iopub.status.idle": "2022-09-03T12:35:21.966358Z",
     "shell.execute_reply": "2022-09-03T12:35:21.964991Z"
    },
    "papermill": {
     "duration": 0.016342,
     "end_time": "2022-09-03T12:35:21.968826",
     "exception": false,
     "start_time": "2022-09-03T12:35:21.952484",
     "status": "completed"
    },
    "tags": []
   },
   "outputs": [],
   "source": [
    "df = data.copy()"
   ]
  },
  {
   "cell_type": "code",
   "execution_count": 4,
   "id": "0cd985cc",
   "metadata": {
    "execution": {
     "iopub.execute_input": "2022-09-03T12:35:21.984468Z",
     "iopub.status.busy": "2022-09-03T12:35:21.983850Z",
     "iopub.status.idle": "2022-09-03T12:35:22.030108Z",
     "shell.execute_reply": "2022-09-03T12:35:22.028975Z"
    },
    "papermill": {
     "duration": 0.057188,
     "end_time": "2022-09-03T12:35:22.032756",
     "exception": false,
     "start_time": "2022-09-03T12:35:21.975568",
     "status": "completed"
    },
    "tags": []
   },
   "outputs": [
    {
     "data": {
      "text/html": [
       "<div>\n",
       "<style scoped>\n",
       "    .dataframe tbody tr th:only-of-type {\n",
       "        vertical-align: middle;\n",
       "    }\n",
       "\n",
       "    .dataframe tbody tr th {\n",
       "        vertical-align: top;\n",
       "    }\n",
       "\n",
       "    .dataframe thead th {\n",
       "        text-align: right;\n",
       "    }\n",
       "</style>\n",
       "<table border=\"1\" class=\"dataframe\">\n",
       "  <thead>\n",
       "    <tr style=\"text-align: right;\">\n",
       "      <th></th>\n",
       "      <th>id</th>\n",
       "      <th>diagnosis</th>\n",
       "      <th>radius_mean</th>\n",
       "      <th>texture_mean</th>\n",
       "      <th>perimeter_mean</th>\n",
       "      <th>area_mean</th>\n",
       "      <th>smoothness_mean</th>\n",
       "      <th>compactness_mean</th>\n",
       "      <th>concavity_mean</th>\n",
       "      <th>concave points_mean</th>\n",
       "      <th>symmetry_mean</th>\n",
       "      <th>fractal_dimension_mean</th>\n",
       "      <th>radius_se</th>\n",
       "      <th>texture_se</th>\n",
       "      <th>perimeter_se</th>\n",
       "      <th>area_se</th>\n",
       "      <th>smoothness_se</th>\n",
       "      <th>compactness_se</th>\n",
       "      <th>concavity_se</th>\n",
       "      <th>concave points_se</th>\n",
       "      <th>symmetry_se</th>\n",
       "      <th>fractal_dimension_se</th>\n",
       "      <th>radius_worst</th>\n",
       "      <th>texture_worst</th>\n",
       "      <th>perimeter_worst</th>\n",
       "      <th>area_worst</th>\n",
       "      <th>smoothness_worst</th>\n",
       "      <th>compactness_worst</th>\n",
       "      <th>concavity_worst</th>\n",
       "      <th>concave points_worst</th>\n",
       "      <th>symmetry_worst</th>\n",
       "      <th>fractal_dimension_worst</th>\n",
       "      <th>Unnamed: 32</th>\n",
       "    </tr>\n",
       "  </thead>\n",
       "  <tbody>\n",
       "    <tr>\n",
       "      <th>0</th>\n",
       "      <td>842302</td>\n",
       "      <td>M</td>\n",
       "      <td>17.99</td>\n",
       "      <td>10.38</td>\n",
       "      <td>122.80</td>\n",
       "      <td>1001.0</td>\n",
       "      <td>0.11840</td>\n",
       "      <td>0.27760</td>\n",
       "      <td>0.3001</td>\n",
       "      <td>0.14710</td>\n",
       "      <td>0.2419</td>\n",
       "      <td>0.07871</td>\n",
       "      <td>1.0950</td>\n",
       "      <td>0.9053</td>\n",
       "      <td>8.589</td>\n",
       "      <td>153.40</td>\n",
       "      <td>0.006399</td>\n",
       "      <td>0.04904</td>\n",
       "      <td>0.05373</td>\n",
       "      <td>0.01587</td>\n",
       "      <td>0.03003</td>\n",
       "      <td>0.006193</td>\n",
       "      <td>25.38</td>\n",
       "      <td>17.33</td>\n",
       "      <td>184.60</td>\n",
       "      <td>2019.0</td>\n",
       "      <td>0.1622</td>\n",
       "      <td>0.6656</td>\n",
       "      <td>0.7119</td>\n",
       "      <td>0.2654</td>\n",
       "      <td>0.4601</td>\n",
       "      <td>0.11890</td>\n",
       "      <td>NaN</td>\n",
       "    </tr>\n",
       "    <tr>\n",
       "      <th>1</th>\n",
       "      <td>842517</td>\n",
       "      <td>M</td>\n",
       "      <td>20.57</td>\n",
       "      <td>17.77</td>\n",
       "      <td>132.90</td>\n",
       "      <td>1326.0</td>\n",
       "      <td>0.08474</td>\n",
       "      <td>0.07864</td>\n",
       "      <td>0.0869</td>\n",
       "      <td>0.07017</td>\n",
       "      <td>0.1812</td>\n",
       "      <td>0.05667</td>\n",
       "      <td>0.5435</td>\n",
       "      <td>0.7339</td>\n",
       "      <td>3.398</td>\n",
       "      <td>74.08</td>\n",
       "      <td>0.005225</td>\n",
       "      <td>0.01308</td>\n",
       "      <td>0.01860</td>\n",
       "      <td>0.01340</td>\n",
       "      <td>0.01389</td>\n",
       "      <td>0.003532</td>\n",
       "      <td>24.99</td>\n",
       "      <td>23.41</td>\n",
       "      <td>158.80</td>\n",
       "      <td>1956.0</td>\n",
       "      <td>0.1238</td>\n",
       "      <td>0.1866</td>\n",
       "      <td>0.2416</td>\n",
       "      <td>0.1860</td>\n",
       "      <td>0.2750</td>\n",
       "      <td>0.08902</td>\n",
       "      <td>NaN</td>\n",
       "    </tr>\n",
       "    <tr>\n",
       "      <th>2</th>\n",
       "      <td>84300903</td>\n",
       "      <td>M</td>\n",
       "      <td>19.69</td>\n",
       "      <td>21.25</td>\n",
       "      <td>130.00</td>\n",
       "      <td>1203.0</td>\n",
       "      <td>0.10960</td>\n",
       "      <td>0.15990</td>\n",
       "      <td>0.1974</td>\n",
       "      <td>0.12790</td>\n",
       "      <td>0.2069</td>\n",
       "      <td>0.05999</td>\n",
       "      <td>0.7456</td>\n",
       "      <td>0.7869</td>\n",
       "      <td>4.585</td>\n",
       "      <td>94.03</td>\n",
       "      <td>0.006150</td>\n",
       "      <td>0.04006</td>\n",
       "      <td>0.03832</td>\n",
       "      <td>0.02058</td>\n",
       "      <td>0.02250</td>\n",
       "      <td>0.004571</td>\n",
       "      <td>23.57</td>\n",
       "      <td>25.53</td>\n",
       "      <td>152.50</td>\n",
       "      <td>1709.0</td>\n",
       "      <td>0.1444</td>\n",
       "      <td>0.4245</td>\n",
       "      <td>0.4504</td>\n",
       "      <td>0.2430</td>\n",
       "      <td>0.3613</td>\n",
       "      <td>0.08758</td>\n",
       "      <td>NaN</td>\n",
       "    </tr>\n",
       "    <tr>\n",
       "      <th>3</th>\n",
       "      <td>84348301</td>\n",
       "      <td>M</td>\n",
       "      <td>11.42</td>\n",
       "      <td>20.38</td>\n",
       "      <td>77.58</td>\n",
       "      <td>386.1</td>\n",
       "      <td>0.14250</td>\n",
       "      <td>0.28390</td>\n",
       "      <td>0.2414</td>\n",
       "      <td>0.10520</td>\n",
       "      <td>0.2597</td>\n",
       "      <td>0.09744</td>\n",
       "      <td>0.4956</td>\n",
       "      <td>1.1560</td>\n",
       "      <td>3.445</td>\n",
       "      <td>27.23</td>\n",
       "      <td>0.009110</td>\n",
       "      <td>0.07458</td>\n",
       "      <td>0.05661</td>\n",
       "      <td>0.01867</td>\n",
       "      <td>0.05963</td>\n",
       "      <td>0.009208</td>\n",
       "      <td>14.91</td>\n",
       "      <td>26.50</td>\n",
       "      <td>98.87</td>\n",
       "      <td>567.7</td>\n",
       "      <td>0.2098</td>\n",
       "      <td>0.8663</td>\n",
       "      <td>0.6869</td>\n",
       "      <td>0.2575</td>\n",
       "      <td>0.6638</td>\n",
       "      <td>0.17300</td>\n",
       "      <td>NaN</td>\n",
       "    </tr>\n",
       "    <tr>\n",
       "      <th>4</th>\n",
       "      <td>84358402</td>\n",
       "      <td>M</td>\n",
       "      <td>20.29</td>\n",
       "      <td>14.34</td>\n",
       "      <td>135.10</td>\n",
       "      <td>1297.0</td>\n",
       "      <td>0.10030</td>\n",
       "      <td>0.13280</td>\n",
       "      <td>0.1980</td>\n",
       "      <td>0.10430</td>\n",
       "      <td>0.1809</td>\n",
       "      <td>0.05883</td>\n",
       "      <td>0.7572</td>\n",
       "      <td>0.7813</td>\n",
       "      <td>5.438</td>\n",
       "      <td>94.44</td>\n",
       "      <td>0.011490</td>\n",
       "      <td>0.02461</td>\n",
       "      <td>0.05688</td>\n",
       "      <td>0.01885</td>\n",
       "      <td>0.01756</td>\n",
       "      <td>0.005115</td>\n",
       "      <td>22.54</td>\n",
       "      <td>16.67</td>\n",
       "      <td>152.20</td>\n",
       "      <td>1575.0</td>\n",
       "      <td>0.1374</td>\n",
       "      <td>0.2050</td>\n",
       "      <td>0.4000</td>\n",
       "      <td>0.1625</td>\n",
       "      <td>0.2364</td>\n",
       "      <td>0.07678</td>\n",
       "      <td>NaN</td>\n",
       "    </tr>\n",
       "  </tbody>\n",
       "</table>\n",
       "</div>"
      ],
      "text/plain": [
       "         id diagnosis  radius_mean  texture_mean  perimeter_mean  area_mean  \\\n",
       "0    842302         M        17.99         10.38          122.80     1001.0   \n",
       "1    842517         M        20.57         17.77          132.90     1326.0   \n",
       "2  84300903         M        19.69         21.25          130.00     1203.0   \n",
       "3  84348301         M        11.42         20.38           77.58      386.1   \n",
       "4  84358402         M        20.29         14.34          135.10     1297.0   \n",
       "\n",
       "   smoothness_mean  compactness_mean  concavity_mean  concave points_mean  \\\n",
       "0          0.11840           0.27760          0.3001              0.14710   \n",
       "1          0.08474           0.07864          0.0869              0.07017   \n",
       "2          0.10960           0.15990          0.1974              0.12790   \n",
       "3          0.14250           0.28390          0.2414              0.10520   \n",
       "4          0.10030           0.13280          0.1980              0.10430   \n",
       "\n",
       "   symmetry_mean  fractal_dimension_mean  radius_se  texture_se  perimeter_se  \\\n",
       "0         0.2419                 0.07871     1.0950      0.9053         8.589   \n",
       "1         0.1812                 0.05667     0.5435      0.7339         3.398   \n",
       "2         0.2069                 0.05999     0.7456      0.7869         4.585   \n",
       "3         0.2597                 0.09744     0.4956      1.1560         3.445   \n",
       "4         0.1809                 0.05883     0.7572      0.7813         5.438   \n",
       "\n",
       "   area_se  smoothness_se  compactness_se  concavity_se  concave points_se  \\\n",
       "0   153.40       0.006399         0.04904       0.05373            0.01587   \n",
       "1    74.08       0.005225         0.01308       0.01860            0.01340   \n",
       "2    94.03       0.006150         0.04006       0.03832            0.02058   \n",
       "3    27.23       0.009110         0.07458       0.05661            0.01867   \n",
       "4    94.44       0.011490         0.02461       0.05688            0.01885   \n",
       "\n",
       "   symmetry_se  fractal_dimension_se  radius_worst  texture_worst  \\\n",
       "0      0.03003              0.006193         25.38          17.33   \n",
       "1      0.01389              0.003532         24.99          23.41   \n",
       "2      0.02250              0.004571         23.57          25.53   \n",
       "3      0.05963              0.009208         14.91          26.50   \n",
       "4      0.01756              0.005115         22.54          16.67   \n",
       "\n",
       "   perimeter_worst  area_worst  smoothness_worst  compactness_worst  \\\n",
       "0           184.60      2019.0            0.1622             0.6656   \n",
       "1           158.80      1956.0            0.1238             0.1866   \n",
       "2           152.50      1709.0            0.1444             0.4245   \n",
       "3            98.87       567.7            0.2098             0.8663   \n",
       "4           152.20      1575.0            0.1374             0.2050   \n",
       "\n",
       "   concavity_worst  concave points_worst  symmetry_worst  \\\n",
       "0           0.7119                0.2654          0.4601   \n",
       "1           0.2416                0.1860          0.2750   \n",
       "2           0.4504                0.2430          0.3613   \n",
       "3           0.6869                0.2575          0.6638   \n",
       "4           0.4000                0.1625          0.2364   \n",
       "\n",
       "   fractal_dimension_worst  Unnamed: 32  \n",
       "0                  0.11890          NaN  \n",
       "1                  0.08902          NaN  \n",
       "2                  0.08758          NaN  \n",
       "3                  0.17300          NaN  \n",
       "4                  0.07678          NaN  "
      ]
     },
     "execution_count": 4,
     "metadata": {},
     "output_type": "execute_result"
    }
   ],
   "source": [
    "df.head()"
   ]
  },
  {
   "cell_type": "code",
   "execution_count": 5,
   "id": "c6108891",
   "metadata": {
    "_kg_hide-input": true,
    "execution": {
     "iopub.execute_input": "2022-09-03T12:35:22.048856Z",
     "iopub.status.busy": "2022-09-03T12:35:22.048470Z",
     "iopub.status.idle": "2022-09-03T12:35:23.259277Z",
     "shell.execute_reply": "2022-09-03T12:35:23.257815Z"
    },
    "papermill": {
     "duration": 1.222181,
     "end_time": "2022-09-03T12:35:23.262144",
     "exception": false,
     "start_time": "2022-09-03T12:35:22.039963",
     "status": "completed"
    },
    "tags": []
   },
   "outputs": [
    {
     "name": "stdout",
     "output_type": "stream",
     "text": [
      "************************** SHAPE ***************************\n",
      "Observations -------> 569\n",
      "Features     -------> 33\n",
      "******************** Types of Features *********************\n",
      "id                           int64\n",
      "diagnosis                   object\n",
      "radius_mean                float64\n",
      "texture_mean               float64\n",
      "perimeter_mean             float64\n",
      "area_mean                  float64\n",
      "smoothness_mean            float64\n",
      "compactness_mean           float64\n",
      "concavity_mean             float64\n",
      "concave points_mean        float64\n",
      "symmetry_mean              float64\n",
      "fractal_dimension_mean     float64\n",
      "radius_se                  float64\n",
      "texture_se                 float64\n",
      "perimeter_se               float64\n",
      "area_se                    float64\n",
      "smoothness_se              float64\n",
      "compactness_se             float64\n",
      "concavity_se               float64\n",
      "concave points_se          float64\n",
      "symmetry_se                float64\n",
      "fractal_dimension_se       float64\n",
      "radius_worst               float64\n",
      "texture_worst              float64\n",
      "perimeter_worst            float64\n",
      "area_worst                 float64\n",
      "smoothness_worst           float64\n",
      "compactness_worst          float64\n",
      "concavity_worst            float64\n",
      "concave points_worst       float64\n",
      "symmetry_worst             float64\n",
      "fractal_dimension_worst    float64\n",
      "Unnamed: 32                float64\n",
      "dtype: object \n",
      "\n",
      "**************** Duplicate Values Analysis *****************\n",
      "\n",
      " 0 \n",
      "\n",
      "************************************************************\n"
     ]
    },
    {
     "data": {
      "application/vnd.plotly.v1+json": {
       "config": {
        "linkText": "Export to plot.ly",
        "plotlyServerURL": "https://plot.ly",
        "showLink": false
       },
       "data": [
        {
         "marker": {
          "color": "#D84E5F",
          "line": {
           "color": "#000000",
           "width": 1.5
          }
         },
         "opacity": 0.8,
         "text": [
          0,
          0,
          0,
          0,
          0,
          0,
          0,
          0,
          0,
          0,
          0,
          0,
          0,
          0,
          0,
          0,
          0,
          0,
          0,
          0,
          0,
          0,
          0,
          0,
          0,
          0,
          0,
          0,
          0,
          0,
          0,
          0,
          100
         ],
         "textposition": "auto",
         "type": "bar",
         "x": [
          "id",
          "diagnosis",
          "radius_mean",
          "texture_mean",
          "perimeter_mean",
          "area_mean",
          "smoothness_mean",
          "compactness_mean",
          "concavity_mean",
          "concave points_mean",
          "symmetry_mean",
          "fractal_dimension_mean",
          "radius_se",
          "texture_se",
          "perimeter_se",
          "area_se",
          "smoothness_se",
          "compactness_se",
          "concavity_se",
          "concave points_se",
          "symmetry_se",
          "fractal_dimension_se",
          "radius_worst",
          "texture_worst",
          "perimeter_worst",
          "area_worst",
          "smoothness_worst",
          "compactness_worst",
          "concavity_worst",
          "concave points_worst",
          "symmetry_worst",
          "fractal_dimension_worst",
          "Unnamed: 32"
         ],
         "y": [
          569,
          569,
          569,
          569,
          569,
          569,
          569,
          569,
          569,
          569,
          569,
          569,
          569,
          569,
          569,
          569,
          569,
          569,
          569,
          569,
          569,
          569,
          569,
          569,
          569,
          569,
          569,
          569,
          569,
          569,
          569,
          569,
          0
         ]
        }
       ],
       "layout": {
        "template": {
         "data": {
          "bar": [
           {
            "error_x": {
             "color": "#2a3f5f"
            },
            "error_y": {
             "color": "#2a3f5f"
            },
            "marker": {
             "line": {
              "color": "#E5ECF6",
              "width": 0.5
             },
             "pattern": {
              "fillmode": "overlay",
              "size": 10,
              "solidity": 0.2
             }
            },
            "type": "bar"
           }
          ],
          "barpolar": [
           {
            "marker": {
             "line": {
              "color": "#E5ECF6",
              "width": 0.5
             },
             "pattern": {
              "fillmode": "overlay",
              "size": 10,
              "solidity": 0.2
             }
            },
            "type": "barpolar"
           }
          ],
          "carpet": [
           {
            "aaxis": {
             "endlinecolor": "#2a3f5f",
             "gridcolor": "white",
             "linecolor": "white",
             "minorgridcolor": "white",
             "startlinecolor": "#2a3f5f"
            },
            "baxis": {
             "endlinecolor": "#2a3f5f",
             "gridcolor": "white",
             "linecolor": "white",
             "minorgridcolor": "white",
             "startlinecolor": "#2a3f5f"
            },
            "type": "carpet"
           }
          ],
          "choropleth": [
           {
            "colorbar": {
             "outlinewidth": 0,
             "ticks": ""
            },
            "type": "choropleth"
           }
          ],
          "contour": [
           {
            "colorbar": {
             "outlinewidth": 0,
             "ticks": ""
            },
            "colorscale": [
             [
              0,
              "#0d0887"
             ],
             [
              0.1111111111111111,
              "#46039f"
             ],
             [
              0.2222222222222222,
              "#7201a8"
             ],
             [
              0.3333333333333333,
              "#9c179e"
             ],
             [
              0.4444444444444444,
              "#bd3786"
             ],
             [
              0.5555555555555556,
              "#d8576b"
             ],
             [
              0.6666666666666666,
              "#ed7953"
             ],
             [
              0.7777777777777778,
              "#fb9f3a"
             ],
             [
              0.8888888888888888,
              "#fdca26"
             ],
             [
              1,
              "#f0f921"
             ]
            ],
            "type": "contour"
           }
          ],
          "contourcarpet": [
           {
            "colorbar": {
             "outlinewidth": 0,
             "ticks": ""
            },
            "type": "contourcarpet"
           }
          ],
          "heatmap": [
           {
            "colorbar": {
             "outlinewidth": 0,
             "ticks": ""
            },
            "colorscale": [
             [
              0,
              "#0d0887"
             ],
             [
              0.1111111111111111,
              "#46039f"
             ],
             [
              0.2222222222222222,
              "#7201a8"
             ],
             [
              0.3333333333333333,
              "#9c179e"
             ],
             [
              0.4444444444444444,
              "#bd3786"
             ],
             [
              0.5555555555555556,
              "#d8576b"
             ],
             [
              0.6666666666666666,
              "#ed7953"
             ],
             [
              0.7777777777777778,
              "#fb9f3a"
             ],
             [
              0.8888888888888888,
              "#fdca26"
             ],
             [
              1,
              "#f0f921"
             ]
            ],
            "type": "heatmap"
           }
          ],
          "heatmapgl": [
           {
            "colorbar": {
             "outlinewidth": 0,
             "ticks": ""
            },
            "colorscale": [
             [
              0,
              "#0d0887"
             ],
             [
              0.1111111111111111,
              "#46039f"
             ],
             [
              0.2222222222222222,
              "#7201a8"
             ],
             [
              0.3333333333333333,
              "#9c179e"
             ],
             [
              0.4444444444444444,
              "#bd3786"
             ],
             [
              0.5555555555555556,
              "#d8576b"
             ],
             [
              0.6666666666666666,
              "#ed7953"
             ],
             [
              0.7777777777777778,
              "#fb9f3a"
             ],
             [
              0.8888888888888888,
              "#fdca26"
             ],
             [
              1,
              "#f0f921"
             ]
            ],
            "type": "heatmapgl"
           }
          ],
          "histogram": [
           {
            "marker": {
             "pattern": {
              "fillmode": "overlay",
              "size": 10,
              "solidity": 0.2
             }
            },
            "type": "histogram"
           }
          ],
          "histogram2d": [
           {
            "colorbar": {
             "outlinewidth": 0,
             "ticks": ""
            },
            "colorscale": [
             [
              0,
              "#0d0887"
             ],
             [
              0.1111111111111111,
              "#46039f"
             ],
             [
              0.2222222222222222,
              "#7201a8"
             ],
             [
              0.3333333333333333,
              "#9c179e"
             ],
             [
              0.4444444444444444,
              "#bd3786"
             ],
             [
              0.5555555555555556,
              "#d8576b"
             ],
             [
              0.6666666666666666,
              "#ed7953"
             ],
             [
              0.7777777777777778,
              "#fb9f3a"
             ],
             [
              0.8888888888888888,
              "#fdca26"
             ],
             [
              1,
              "#f0f921"
             ]
            ],
            "type": "histogram2d"
           }
          ],
          "histogram2dcontour": [
           {
            "colorbar": {
             "outlinewidth": 0,
             "ticks": ""
            },
            "colorscale": [
             [
              0,
              "#0d0887"
             ],
             [
              0.1111111111111111,
              "#46039f"
             ],
             [
              0.2222222222222222,
              "#7201a8"
             ],
             [
              0.3333333333333333,
              "#9c179e"
             ],
             [
              0.4444444444444444,
              "#bd3786"
             ],
             [
              0.5555555555555556,
              "#d8576b"
             ],
             [
              0.6666666666666666,
              "#ed7953"
             ],
             [
              0.7777777777777778,
              "#fb9f3a"
             ],
             [
              0.8888888888888888,
              "#fdca26"
             ],
             [
              1,
              "#f0f921"
             ]
            ],
            "type": "histogram2dcontour"
           }
          ],
          "mesh3d": [
           {
            "colorbar": {
             "outlinewidth": 0,
             "ticks": ""
            },
            "type": "mesh3d"
           }
          ],
          "parcoords": [
           {
            "line": {
             "colorbar": {
              "outlinewidth": 0,
              "ticks": ""
             }
            },
            "type": "parcoords"
           }
          ],
          "pie": [
           {
            "automargin": true,
            "type": "pie"
           }
          ],
          "scatter": [
           {
            "fillpattern": {
             "fillmode": "overlay",
             "size": 10,
             "solidity": 0.2
            },
            "type": "scatter"
           }
          ],
          "scatter3d": [
           {
            "line": {
             "colorbar": {
              "outlinewidth": 0,
              "ticks": ""
             }
            },
            "marker": {
             "colorbar": {
              "outlinewidth": 0,
              "ticks": ""
             }
            },
            "type": "scatter3d"
           }
          ],
          "scattercarpet": [
           {
            "marker": {
             "colorbar": {
              "outlinewidth": 0,
              "ticks": ""
             }
            },
            "type": "scattercarpet"
           }
          ],
          "scattergeo": [
           {
            "marker": {
             "colorbar": {
              "outlinewidth": 0,
              "ticks": ""
             }
            },
            "type": "scattergeo"
           }
          ],
          "scattergl": [
           {
            "marker": {
             "colorbar": {
              "outlinewidth": 0,
              "ticks": ""
             }
            },
            "type": "scattergl"
           }
          ],
          "scattermapbox": [
           {
            "marker": {
             "colorbar": {
              "outlinewidth": 0,
              "ticks": ""
             }
            },
            "type": "scattermapbox"
           }
          ],
          "scatterpolar": [
           {
            "marker": {
             "colorbar": {
              "outlinewidth": 0,
              "ticks": ""
             }
            },
            "type": "scatterpolar"
           }
          ],
          "scatterpolargl": [
           {
            "marker": {
             "colorbar": {
              "outlinewidth": 0,
              "ticks": ""
             }
            },
            "type": "scatterpolargl"
           }
          ],
          "scatterternary": [
           {
            "marker": {
             "colorbar": {
              "outlinewidth": 0,
              "ticks": ""
             }
            },
            "type": "scatterternary"
           }
          ],
          "surface": [
           {
            "colorbar": {
             "outlinewidth": 0,
             "ticks": ""
            },
            "colorscale": [
             [
              0,
              "#0d0887"
             ],
             [
              0.1111111111111111,
              "#46039f"
             ],
             [
              0.2222222222222222,
              "#7201a8"
             ],
             [
              0.3333333333333333,
              "#9c179e"
             ],
             [
              0.4444444444444444,
              "#bd3786"
             ],
             [
              0.5555555555555556,
              "#d8576b"
             ],
             [
              0.6666666666666666,
              "#ed7953"
             ],
             [
              0.7777777777777778,
              "#fb9f3a"
             ],
             [
              0.8888888888888888,
              "#fdca26"
             ],
             [
              1,
              "#f0f921"
             ]
            ],
            "type": "surface"
           }
          ],
          "table": [
           {
            "cells": {
             "fill": {
              "color": "#EBF0F8"
             },
             "line": {
              "color": "white"
             }
            },
            "header": {
             "fill": {
              "color": "#C8D4E3"
             },
             "line": {
              "color": "white"
             }
            },
            "type": "table"
           }
          ]
         },
         "layout": {
          "annotationdefaults": {
           "arrowcolor": "#2a3f5f",
           "arrowhead": 0,
           "arrowwidth": 1
          },
          "autotypenumbers": "strict",
          "coloraxis": {
           "colorbar": {
            "outlinewidth": 0,
            "ticks": ""
           }
          },
          "colorscale": {
           "diverging": [
            [
             0,
             "#8e0152"
            ],
            [
             0.1,
             "#c51b7d"
            ],
            [
             0.2,
             "#de77ae"
            ],
            [
             0.3,
             "#f1b6da"
            ],
            [
             0.4,
             "#fde0ef"
            ],
            [
             0.5,
             "#f7f7f7"
            ],
            [
             0.6,
             "#e6f5d0"
            ],
            [
             0.7,
             "#b8e186"
            ],
            [
             0.8,
             "#7fbc41"
            ],
            [
             0.9,
             "#4d9221"
            ],
            [
             1,
             "#276419"
            ]
           ],
           "sequential": [
            [
             0,
             "#0d0887"
            ],
            [
             0.1111111111111111,
             "#46039f"
            ],
            [
             0.2222222222222222,
             "#7201a8"
            ],
            [
             0.3333333333333333,
             "#9c179e"
            ],
            [
             0.4444444444444444,
             "#bd3786"
            ],
            [
             0.5555555555555556,
             "#d8576b"
            ],
            [
             0.6666666666666666,
             "#ed7953"
            ],
            [
             0.7777777777777778,
             "#fb9f3a"
            ],
            [
             0.8888888888888888,
             "#fdca26"
            ],
            [
             1,
             "#f0f921"
            ]
           ],
           "sequentialminus": [
            [
             0,
             "#0d0887"
            ],
            [
             0.1111111111111111,
             "#46039f"
            ],
            [
             0.2222222222222222,
             "#7201a8"
            ],
            [
             0.3333333333333333,
             "#9c179e"
            ],
            [
             0.4444444444444444,
             "#bd3786"
            ],
            [
             0.5555555555555556,
             "#d8576b"
            ],
            [
             0.6666666666666666,
             "#ed7953"
            ],
            [
             0.7777777777777778,
             "#fb9f3a"
            ],
            [
             0.8888888888888888,
             "#fdca26"
            ],
            [
             1,
             "#f0f921"
            ]
           ]
          },
          "colorway": [
           "#636efa",
           "#EF553B",
           "#00cc96",
           "#ab63fa",
           "#FFA15A",
           "#19d3f3",
           "#FF6692",
           "#B6E880",
           "#FF97FF",
           "#FECB52"
          ],
          "font": {
           "color": "#2a3f5f"
          },
          "geo": {
           "bgcolor": "white",
           "lakecolor": "white",
           "landcolor": "#E5ECF6",
           "showlakes": true,
           "showland": true,
           "subunitcolor": "white"
          },
          "hoverlabel": {
           "align": "left"
          },
          "hovermode": "closest",
          "mapbox": {
           "style": "light"
          },
          "paper_bgcolor": "white",
          "plot_bgcolor": "#E5ECF6",
          "polar": {
           "angularaxis": {
            "gridcolor": "white",
            "linecolor": "white",
            "ticks": ""
           },
           "bgcolor": "#E5ECF6",
           "radialaxis": {
            "gridcolor": "white",
            "linecolor": "white",
            "ticks": ""
           }
          },
          "scene": {
           "xaxis": {
            "backgroundcolor": "#E5ECF6",
            "gridcolor": "white",
            "gridwidth": 2,
            "linecolor": "white",
            "showbackground": true,
            "ticks": "",
            "zerolinecolor": "white"
           },
           "yaxis": {
            "backgroundcolor": "#E5ECF6",
            "gridcolor": "white",
            "gridwidth": 2,
            "linecolor": "white",
            "showbackground": true,
            "ticks": "",
            "zerolinecolor": "white"
           },
           "zaxis": {
            "backgroundcolor": "#E5ECF6",
            "gridcolor": "white",
            "gridwidth": 2,
            "linecolor": "white",
            "showbackground": true,
            "ticks": "",
            "zerolinecolor": "white"
           }
          },
          "shapedefaults": {
           "line": {
            "color": "#2a3f5f"
           }
          },
          "ternary": {
           "aaxis": {
            "gridcolor": "white",
            "linecolor": "white",
            "ticks": ""
           },
           "baxis": {
            "gridcolor": "white",
            "linecolor": "white",
            "ticks": ""
           },
           "bgcolor": "#E5ECF6",
           "caxis": {
            "gridcolor": "white",
            "linecolor": "white",
            "ticks": ""
           }
          },
          "title": {
           "x": 0.05
          },
          "xaxis": {
           "automargin": true,
           "gridcolor": "white",
           "linecolor": "white",
           "ticks": "",
           "title": {
            "standoff": 15
           },
           "zerolinecolor": "white",
           "zerolinewidth": 2
          },
          "yaxis": {
           "automargin": true,
           "gridcolor": "white",
           "linecolor": "white",
           "ticks": "",
           "title": {
            "standoff": 15
           },
           "zerolinecolor": "white",
           "zerolinewidth": 2
          }
         }
        },
        "title": {
         "text": "Missing Values Analysis with BarPlot"
        }
       }
      }
     },
     "metadata": {},
     "output_type": "display_data"
    }
   ],
   "source": [
    "# Define missing plot to detect all missing values in dataset\n",
    "def missing_plot(dataset):\n",
    "    for i in dataset.columns:\n",
    "        null_feat = pd.DataFrame(len(dataset[i]) - dataset.isnull().sum(), columns = ['Count'])\n",
    "        percentage_null = pd.DataFrame((len(dataset[i]) - (len(dataset[i]) - dataset.isnull().sum()))/len(dataset[i])*100, columns = ['Count'])\n",
    "        percentage_null = percentage_null.round(2)\n",
    "\n",
    "    trace = go.Bar(x = null_feat.index, y = null_feat['Count'] ,opacity = 0.8, text = percentage_null['Count'],  textposition = 'auto',marker=dict(color = '#D84E5F',\n",
    "            line=dict(color='#000000',width=1.5)))\n",
    "\n",
    "    layout = dict(title =  \"Missing Values Analysis with BarPlot\")\n",
    "\n",
    "    fig = dict(data = [trace], layout=layout)\n",
    "    py.iplot(fig)\n",
    "\n",
    "def check_df(df, head=5, tail=5):\n",
    "    print(\" SHAPE \".center(60, '*'))\n",
    "    print('Observations -------> {}'.format(df.shape[0]))\n",
    "    print('Features     -------> {}'.format(df.shape[1]))\n",
    "    print(\" Types of Features \".center(60, '*'))\n",
    "    print(df.dtypes,\"\\n\")\n",
    "    print(' Duplicate Values Analysis '.center(60, '*'))\n",
    "    print(\"\\n\",df.duplicated().sum(),\"\\n\")\n",
    "    print(\"\".center(60, '*'))\n",
    "\n",
    "\n",
    "check_df(df)\n",
    "missing_plot(df)"
   ]
  },
  {
   "cell_type": "code",
   "execution_count": null,
   "id": "c8657f25",
   "metadata": {},
   "outputs": [],
   "source": []
  },
  {
   "cell_type": "code",
   "execution_count": 6,
   "id": "f6b43f17",
   "metadata": {
    "execution": {
     "iopub.execute_input": "2022-09-03T12:35:23.284927Z",
     "iopub.status.busy": "2022-09-03T12:35:23.284219Z",
     "iopub.status.idle": "2022-09-03T12:35:23.295057Z",
     "shell.execute_reply": "2022-09-03T12:35:23.294141Z"
    },
    "papermill": {
     "duration": 0.02385,
     "end_time": "2022-09-03T12:35:23.298022",
     "exception": false,
     "start_time": "2022-09-03T12:35:23.274172",
     "status": "completed"
    },
    "tags": []
   },
   "outputs": [],
   "source": [
    "# Since they do not carry any pattern, we exclude them from the data set.\n",
    "df.drop(['id', 'Unnamed: 32'], axis= 1, inplace= True)"
   ]
  },
  {
   "cell_type": "markdown",
   "id": "05303c06",
   "metadata": {
    "papermill": {
     "duration": 0.007261,
     "end_time": "2022-09-03T12:35:23.312867",
     "exception": false,
     "start_time": "2022-09-03T12:35:23.305606",
     "status": "completed"
    },
    "tags": []
   },
   "source": [
    "<div class=\"alert alert-block alert-info\">\n",
    "        <b> 📌 Everything seems fine. There is no problem. We will skip the data preprocessing part. (Outlier anaylsis etc..)</b>\n",
    "</div>\n",
    "<br>\n",
    "\n",
    "---"
   ]
  },
  {
   "cell_type": "markdown",
   "id": "995da132",
   "metadata": {
    "papermill": {
     "duration": 0.007203,
     "end_time": "2022-09-03T12:35:23.327571",
     "exception": false,
     "start_time": "2022-09-03T12:35:23.320368",
     "status": "completed"
    },
    "tags": []
   },
   "source": [
    "<a id = \"2\"></a><h1 id=\"Introduction\"><span class=\"label label-default\" style=\"background-color:#D84E5F; border-radius:12px; font-weight: bold; font-family:Verdana; font-size:22px; color:#FBFAFC; \">⛓⛓ Principal Component Analysis ⛓⛓</span></h1>"
   ]
  },
  {
   "cell_type": "code",
   "execution_count": 7,
   "id": "29de7a73",
   "metadata": {
    "execution": {
     "iopub.execute_input": "2022-09-03T12:35:23.344934Z",
     "iopub.status.busy": "2022-09-03T12:35:23.344529Z",
     "iopub.status.idle": "2022-09-03T12:35:23.350941Z",
     "shell.execute_reply": "2022-09-03T12:35:23.349714Z"
    },
    "papermill": {
     "duration": 0.018476,
     "end_time": "2022-09-03T12:35:23.353513",
     "exception": false,
     "start_time": "2022-09-03T12:35:23.335037",
     "status": "completed"
    },
    "tags": []
   },
   "outputs": [],
   "source": [
    "df_ = df.drop(['diagnosis'], axis= 1)"
   ]
  },
  {
   "cell_type": "code",
   "execution_count": 8,
   "id": "e0767fa5",
   "metadata": {
    "execution": {
     "iopub.execute_input": "2022-09-03T12:35:23.371070Z",
     "iopub.status.busy": "2022-09-03T12:35:23.369955Z",
     "iopub.status.idle": "2022-09-03T12:35:23.379931Z",
     "shell.execute_reply": "2022-09-03T12:35:23.379038Z"
    },
    "papermill": {
     "duration": 0.021559,
     "end_time": "2022-09-03T12:35:23.382639",
     "exception": false,
     "start_time": "2022-09-03T12:35:23.361080",
     "status": "completed"
    },
    "tags": []
   },
   "outputs": [],
   "source": [
    "df_ = StandardScaler().fit_transform(df_)"
   ]
  },
  {
   "cell_type": "code",
   "execution_count": 9,
   "id": "60d1b5b1",
   "metadata": {
    "execution": {
     "iopub.execute_input": "2022-09-03T12:35:23.401959Z",
     "iopub.status.busy": "2022-09-03T12:35:23.401556Z",
     "iopub.status.idle": "2022-09-03T12:35:23.433903Z",
     "shell.execute_reply": "2022-09-03T12:35:23.431900Z"
    },
    "papermill": {
     "duration": 0.047337,
     "end_time": "2022-09-03T12:35:23.438399",
     "exception": false,
     "start_time": "2022-09-03T12:35:23.391062",
     "status": "completed"
    },
    "tags": []
   },
   "outputs": [],
   "source": [
    "pca = PCA()\n",
    "pca_fit = pca.fit_transform(df_)"
   ]
  },
  {
   "cell_type": "code",
   "execution_count": 10,
   "id": "b492a79d",
   "metadata": {
    "execution": {
     "iopub.execute_input": "2022-09-03T12:35:23.478815Z",
     "iopub.status.busy": "2022-09-03T12:35:23.478145Z",
     "iopub.status.idle": "2022-09-03T12:35:23.489267Z",
     "shell.execute_reply": "2022-09-03T12:35:23.488080Z"
    },
    "papermill": {
     "duration": 0.036141,
     "end_time": "2022-09-03T12:35:23.493243",
     "exception": false,
     "start_time": "2022-09-03T12:35:23.457102",
     "status": "completed"
    },
    "tags": []
   },
   "outputs": [
    {
     "data": {
      "text/plain": [
       "array([4.42720256e-01, 1.89711820e-01, 9.39316326e-02, 6.60213492e-02,\n",
       "       5.49576849e-02, 4.02452204e-02, 2.25073371e-02, 1.58872380e-02,\n",
       "       1.38964937e-02, 1.16897819e-02, 9.79718988e-03, 8.70537901e-03,\n",
       "       8.04524987e-03, 5.23365745e-03, 3.13783217e-03, 2.66209337e-03,\n",
       "       1.97996793e-03, 1.75395945e-03, 1.64925306e-03, 1.03864675e-03,\n",
       "       9.99096464e-04, 9.14646751e-04, 8.11361259e-04, 6.01833567e-04,\n",
       "       5.16042379e-04, 2.72587995e-04, 2.30015463e-04, 5.29779290e-05,\n",
       "       2.49601032e-05, 4.43482743e-06])"
      ]
     },
     "execution_count": 10,
     "metadata": {},
     "output_type": "execute_result"
    }
   ],
   "source": [
    "pca.explained_variance_ratio_"
   ]
  },
  {
   "cell_type": "markdown",
   "id": "5210a25c",
   "metadata": {
    "papermill": {
     "duration": 0.019358,
     "end_time": "2022-09-03T12:35:23.531561",
     "exception": false,
     "start_time": "2022-09-03T12:35:23.512203",
     "status": "completed"
    },
    "tags": []
   },
   "source": [
    "<div class=\"alert alert-block alert-info\">\n",
    "        <b> 📌 The pca.explained_variance_ratio_ parameter returns a vector of the variance explained by each dimension.</b>\n",
    "</div>"
   ]
  },
  {
   "cell_type": "code",
   "execution_count": 11,
   "id": "c7902a2b",
   "metadata": {
    "execution": {
     "iopub.execute_input": "2022-09-03T12:35:23.561164Z",
     "iopub.status.busy": "2022-09-03T12:35:23.560724Z",
     "iopub.status.idle": "2022-09-03T12:35:23.567648Z",
     "shell.execute_reply": "2022-09-03T12:35:23.566698Z"
    },
    "papermill": {
     "duration": 0.018708,
     "end_time": "2022-09-03T12:35:23.569942",
     "exception": false,
     "start_time": "2022-09-03T12:35:23.551234",
     "status": "completed"
    },
    "tags": []
   },
   "outputs": [
    {
     "data": {
      "text/plain": [
       "array([0.44272026, 0.63243208, 0.72636371, 0.79238506, 0.84734274,\n",
       "       0.88758796, 0.9100953 , 0.92598254, 0.93987903, 0.95156881,\n",
       "       0.961366  , 0.97007138, 0.97811663, 0.98335029, 0.98648812,\n",
       "       0.98915022, 0.99113018, 0.99288414, 0.9945334 , 0.99557204,\n",
       "       0.99657114, 0.99748579, 0.99829715, 0.99889898, 0.99941502,\n",
       "       0.99968761, 0.99991763, 0.99997061, 0.99999557, 1.        ])"
      ]
     },
     "execution_count": 11,
     "metadata": {},
     "output_type": "execute_result"
    }
   ],
   "source": [
    "pca.explained_variance_ratio_.cumsum()"
   ]
  },
  {
   "cell_type": "markdown",
   "id": "365f28ba",
   "metadata": {
    "papermill": {
     "duration": 0.007666,
     "end_time": "2022-09-03T12:35:23.585648",
     "exception": false,
     "start_time": "2022-09-03T12:35:23.577982",
     "status": "completed"
    },
    "tags": []
   },
   "source": [
    "\n",
    "<div class=\"alert alert-block alert-info\">\n",
    "        <b> 📌 pca.explained_variance_ratio_.cumsum()  This returns a vector x in the same way that x[i] returns the cumulative variance explained by the initial dimensions i+1.</b>\n",
    "</div>\n",
    "<br>\n"
   ]
  },
  {
   "cell_type": "markdown",
   "id": "39dada4f",
   "metadata": {
    "papermill": {
     "duration": 0.007807,
     "end_time": "2022-09-03T12:35:23.601535",
     "exception": false,
     "start_time": "2022-09-03T12:35:23.593728",
     "status": "completed"
    },
    "tags": []
   },
   "source": [
    "<a id = \"2\"></a><h1 id=\"Introduction\"><span class=\"label label-default\" style=\"background-color:#D84E5F; border-radius:12px; font-weight: bold; font-family:Verdana; font-size:22px; color:#FBFAFC; \">🕯 Optimum Number of Components 🕯</span></h1>"
   ]
  },
  {
   "cell_type": "code",
   "execution_count": 12,
   "id": "a20f8998",
   "metadata": {
    "execution": {
     "iopub.execute_input": "2022-09-03T12:35:23.619449Z",
     "iopub.status.busy": "2022-09-03T12:35:23.618636Z",
     "iopub.status.idle": "2022-09-03T12:35:23.627169Z",
     "shell.execute_reply": "2022-09-03T12:35:23.625626Z"
    },
    "papermill": {
     "duration": 0.022215,
     "end_time": "2022-09-03T12:35:23.631569",
     "exception": false,
     "start_time": "2022-09-03T12:35:23.609354",
     "status": "completed"
    },
    "tags": []
   },
   "outputs": [],
   "source": [
    "pca = PCA().fit(df_)"
   ]
  },
  {
   "cell_type": "code",
   "execution_count": 13,
   "id": "2e403365",
   "metadata": {},
   "outputs": [
    {
     "data": {
      "application/vnd.plotly.v1+json": {
       "config": {
        "plotlyServerURL": "https://plot.ly"
       },
       "data": [
        {
         "alignmentgroup": "True",
         "hovertemplate": "x=%{x}<br>y=%{y}<extra></extra>",
         "legendgroup": "",
         "marker": {
          "color": "#636efa",
          "pattern": {
           "shape": ""
          }
         },
         "name": "",
         "offsetgroup": "",
         "orientation": "v",
         "showlegend": false,
         "textposition": "auto",
         "type": "bar",
         "x": [
          0,
          1,
          2,
          3,
          4,
          5,
          6,
          7,
          8
         ],
         "xaxis": "x",
         "y": [
          13.304990794374561,
          5.701374603726137,
          2.8229101550062268,
          1.984127517730201,
          1.651633242330119,
          1.2094822398029699,
          0.6764088817009047,
          0.4774562546895083,
          0.41762878210781723
         ],
         "yaxis": "y"
        }
       ],
       "layout": {
        "barmode": "relative",
        "legend": {
         "tracegroupgap": 0
        },
        "margin": {
         "t": 60
        },
        "template": {
         "data": {
          "bar": [
           {
            "error_x": {
             "color": "#f2f5fa"
            },
            "error_y": {
             "color": "#f2f5fa"
            },
            "marker": {
             "line": {
              "color": "rgb(17,17,17)",
              "width": 0.5
             },
             "pattern": {
              "fillmode": "overlay",
              "size": 10,
              "solidity": 0.2
             }
            },
            "type": "bar"
           }
          ],
          "barpolar": [
           {
            "marker": {
             "line": {
              "color": "rgb(17,17,17)",
              "width": 0.5
             },
             "pattern": {
              "fillmode": "overlay",
              "size": 10,
              "solidity": 0.2
             }
            },
            "type": "barpolar"
           }
          ],
          "carpet": [
           {
            "aaxis": {
             "endlinecolor": "#A2B1C6",
             "gridcolor": "#506784",
             "linecolor": "#506784",
             "minorgridcolor": "#506784",
             "startlinecolor": "#A2B1C6"
            },
            "baxis": {
             "endlinecolor": "#A2B1C6",
             "gridcolor": "#506784",
             "linecolor": "#506784",
             "minorgridcolor": "#506784",
             "startlinecolor": "#A2B1C6"
            },
            "type": "carpet"
           }
          ],
          "choropleth": [
           {
            "colorbar": {
             "outlinewidth": 0,
             "ticks": ""
            },
            "type": "choropleth"
           }
          ],
          "contour": [
           {
            "colorbar": {
             "outlinewidth": 0,
             "ticks": ""
            },
            "colorscale": [
             [
              0,
              "#0d0887"
             ],
             [
              0.1111111111111111,
              "#46039f"
             ],
             [
              0.2222222222222222,
              "#7201a8"
             ],
             [
              0.3333333333333333,
              "#9c179e"
             ],
             [
              0.4444444444444444,
              "#bd3786"
             ],
             [
              0.5555555555555556,
              "#d8576b"
             ],
             [
              0.6666666666666666,
              "#ed7953"
             ],
             [
              0.7777777777777778,
              "#fb9f3a"
             ],
             [
              0.8888888888888888,
              "#fdca26"
             ],
             [
              1,
              "#f0f921"
             ]
            ],
            "type": "contour"
           }
          ],
          "contourcarpet": [
           {
            "colorbar": {
             "outlinewidth": 0,
             "ticks": ""
            },
            "type": "contourcarpet"
           }
          ],
          "heatmap": [
           {
            "colorbar": {
             "outlinewidth": 0,
             "ticks": ""
            },
            "colorscale": [
             [
              0,
              "#0d0887"
             ],
             [
              0.1111111111111111,
              "#46039f"
             ],
             [
              0.2222222222222222,
              "#7201a8"
             ],
             [
              0.3333333333333333,
              "#9c179e"
             ],
             [
              0.4444444444444444,
              "#bd3786"
             ],
             [
              0.5555555555555556,
              "#d8576b"
             ],
             [
              0.6666666666666666,
              "#ed7953"
             ],
             [
              0.7777777777777778,
              "#fb9f3a"
             ],
             [
              0.8888888888888888,
              "#fdca26"
             ],
             [
              1,
              "#f0f921"
             ]
            ],
            "type": "heatmap"
           }
          ],
          "heatmapgl": [
           {
            "colorbar": {
             "outlinewidth": 0,
             "ticks": ""
            },
            "colorscale": [
             [
              0,
              "#0d0887"
             ],
             [
              0.1111111111111111,
              "#46039f"
             ],
             [
              0.2222222222222222,
              "#7201a8"
             ],
             [
              0.3333333333333333,
              "#9c179e"
             ],
             [
              0.4444444444444444,
              "#bd3786"
             ],
             [
              0.5555555555555556,
              "#d8576b"
             ],
             [
              0.6666666666666666,
              "#ed7953"
             ],
             [
              0.7777777777777778,
              "#fb9f3a"
             ],
             [
              0.8888888888888888,
              "#fdca26"
             ],
             [
              1,
              "#f0f921"
             ]
            ],
            "type": "heatmapgl"
           }
          ],
          "histogram": [
           {
            "marker": {
             "pattern": {
              "fillmode": "overlay",
              "size": 10,
              "solidity": 0.2
             }
            },
            "type": "histogram"
           }
          ],
          "histogram2d": [
           {
            "colorbar": {
             "outlinewidth": 0,
             "ticks": ""
            },
            "colorscale": [
             [
              0,
              "#0d0887"
             ],
             [
              0.1111111111111111,
              "#46039f"
             ],
             [
              0.2222222222222222,
              "#7201a8"
             ],
             [
              0.3333333333333333,
              "#9c179e"
             ],
             [
              0.4444444444444444,
              "#bd3786"
             ],
             [
              0.5555555555555556,
              "#d8576b"
             ],
             [
              0.6666666666666666,
              "#ed7953"
             ],
             [
              0.7777777777777778,
              "#fb9f3a"
             ],
             [
              0.8888888888888888,
              "#fdca26"
             ],
             [
              1,
              "#f0f921"
             ]
            ],
            "type": "histogram2d"
           }
          ],
          "histogram2dcontour": [
           {
            "colorbar": {
             "outlinewidth": 0,
             "ticks": ""
            },
            "colorscale": [
             [
              0,
              "#0d0887"
             ],
             [
              0.1111111111111111,
              "#46039f"
             ],
             [
              0.2222222222222222,
              "#7201a8"
             ],
             [
              0.3333333333333333,
              "#9c179e"
             ],
             [
              0.4444444444444444,
              "#bd3786"
             ],
             [
              0.5555555555555556,
              "#d8576b"
             ],
             [
              0.6666666666666666,
              "#ed7953"
             ],
             [
              0.7777777777777778,
              "#fb9f3a"
             ],
             [
              0.8888888888888888,
              "#fdca26"
             ],
             [
              1,
              "#f0f921"
             ]
            ],
            "type": "histogram2dcontour"
           }
          ],
          "mesh3d": [
           {
            "colorbar": {
             "outlinewidth": 0,
             "ticks": ""
            },
            "type": "mesh3d"
           }
          ],
          "parcoords": [
           {
            "line": {
             "colorbar": {
              "outlinewidth": 0,
              "ticks": ""
             }
            },
            "type": "parcoords"
           }
          ],
          "pie": [
           {
            "automargin": true,
            "type": "pie"
           }
          ],
          "scatter": [
           {
            "marker": {
             "line": {
              "color": "#283442"
             }
            },
            "type": "scatter"
           }
          ],
          "scatter3d": [
           {
            "line": {
             "colorbar": {
              "outlinewidth": 0,
              "ticks": ""
             }
            },
            "marker": {
             "colorbar": {
              "outlinewidth": 0,
              "ticks": ""
             }
            },
            "type": "scatter3d"
           }
          ],
          "scattercarpet": [
           {
            "marker": {
             "colorbar": {
              "outlinewidth": 0,
              "ticks": ""
             }
            },
            "type": "scattercarpet"
           }
          ],
          "scattergeo": [
           {
            "marker": {
             "colorbar": {
              "outlinewidth": 0,
              "ticks": ""
             }
            },
            "type": "scattergeo"
           }
          ],
          "scattergl": [
           {
            "marker": {
             "line": {
              "color": "#283442"
             }
            },
            "type": "scattergl"
           }
          ],
          "scattermapbox": [
           {
            "marker": {
             "colorbar": {
              "outlinewidth": 0,
              "ticks": ""
             }
            },
            "type": "scattermapbox"
           }
          ],
          "scatterpolar": [
           {
            "marker": {
             "colorbar": {
              "outlinewidth": 0,
              "ticks": ""
             }
            },
            "type": "scatterpolar"
           }
          ],
          "scatterpolargl": [
           {
            "marker": {
             "colorbar": {
              "outlinewidth": 0,
              "ticks": ""
             }
            },
            "type": "scatterpolargl"
           }
          ],
          "scatterternary": [
           {
            "marker": {
             "colorbar": {
              "outlinewidth": 0,
              "ticks": ""
             }
            },
            "type": "scatterternary"
           }
          ],
          "surface": [
           {
            "colorbar": {
             "outlinewidth": 0,
             "ticks": ""
            },
            "colorscale": [
             [
              0,
              "#0d0887"
             ],
             [
              0.1111111111111111,
              "#46039f"
             ],
             [
              0.2222222222222222,
              "#7201a8"
             ],
             [
              0.3333333333333333,
              "#9c179e"
             ],
             [
              0.4444444444444444,
              "#bd3786"
             ],
             [
              0.5555555555555556,
              "#d8576b"
             ],
             [
              0.6666666666666666,
              "#ed7953"
             ],
             [
              0.7777777777777778,
              "#fb9f3a"
             ],
             [
              0.8888888888888888,
              "#fdca26"
             ],
             [
              1,
              "#f0f921"
             ]
            ],
            "type": "surface"
           }
          ],
          "table": [
           {
            "cells": {
             "fill": {
              "color": "#506784"
             },
             "line": {
              "color": "rgb(17,17,17)"
             }
            },
            "header": {
             "fill": {
              "color": "#2a3f5f"
             },
             "line": {
              "color": "rgb(17,17,17)"
             }
            },
            "type": "table"
           }
          ]
         },
         "layout": {
          "annotationdefaults": {
           "arrowcolor": "#f2f5fa",
           "arrowhead": 0,
           "arrowwidth": 1
          },
          "autotypenumbers": "strict",
          "coloraxis": {
           "colorbar": {
            "outlinewidth": 0,
            "ticks": ""
           }
          },
          "colorscale": {
           "diverging": [
            [
             0,
             "#8e0152"
            ],
            [
             0.1,
             "#c51b7d"
            ],
            [
             0.2,
             "#de77ae"
            ],
            [
             0.3,
             "#f1b6da"
            ],
            [
             0.4,
             "#fde0ef"
            ],
            [
             0.5,
             "#f7f7f7"
            ],
            [
             0.6,
             "#e6f5d0"
            ],
            [
             0.7,
             "#b8e186"
            ],
            [
             0.8,
             "#7fbc41"
            ],
            [
             0.9,
             "#4d9221"
            ],
            [
             1,
             "#276419"
            ]
           ],
           "sequential": [
            [
             0,
             "#0d0887"
            ],
            [
             0.1111111111111111,
             "#46039f"
            ],
            [
             0.2222222222222222,
             "#7201a8"
            ],
            [
             0.3333333333333333,
             "#9c179e"
            ],
            [
             0.4444444444444444,
             "#bd3786"
            ],
            [
             0.5555555555555556,
             "#d8576b"
            ],
            [
             0.6666666666666666,
             "#ed7953"
            ],
            [
             0.7777777777777778,
             "#fb9f3a"
            ],
            [
             0.8888888888888888,
             "#fdca26"
            ],
            [
             1,
             "#f0f921"
            ]
           ],
           "sequentialminus": [
            [
             0,
             "#0d0887"
            ],
            [
             0.1111111111111111,
             "#46039f"
            ],
            [
             0.2222222222222222,
             "#7201a8"
            ],
            [
             0.3333333333333333,
             "#9c179e"
            ],
            [
             0.4444444444444444,
             "#bd3786"
            ],
            [
             0.5555555555555556,
             "#d8576b"
            ],
            [
             0.6666666666666666,
             "#ed7953"
            ],
            [
             0.7777777777777778,
             "#fb9f3a"
            ],
            [
             0.8888888888888888,
             "#fdca26"
            ],
            [
             1,
             "#f0f921"
            ]
           ]
          },
          "colorway": [
           "#636efa",
           "#EF553B",
           "#00cc96",
           "#ab63fa",
           "#FFA15A",
           "#19d3f3",
           "#FF6692",
           "#B6E880",
           "#FF97FF",
           "#FECB52"
          ],
          "font": {
           "color": "#f2f5fa"
          },
          "geo": {
           "bgcolor": "rgb(17,17,17)",
           "lakecolor": "rgb(17,17,17)",
           "landcolor": "rgb(17,17,17)",
           "showlakes": true,
           "showland": true,
           "subunitcolor": "#506784"
          },
          "hoverlabel": {
           "align": "left"
          },
          "hovermode": "closest",
          "mapbox": {
           "style": "dark"
          },
          "paper_bgcolor": "rgb(17,17,17)",
          "plot_bgcolor": "rgb(17,17,17)",
          "polar": {
           "angularaxis": {
            "gridcolor": "#506784",
            "linecolor": "#506784",
            "ticks": ""
           },
           "bgcolor": "rgb(17,17,17)",
           "radialaxis": {
            "gridcolor": "#506784",
            "linecolor": "#506784",
            "ticks": ""
           }
          },
          "scene": {
           "xaxis": {
            "backgroundcolor": "rgb(17,17,17)",
            "gridcolor": "#506784",
            "gridwidth": 2,
            "linecolor": "#506784",
            "showbackground": true,
            "ticks": "",
            "zerolinecolor": "#C8D4E3"
           },
           "yaxis": {
            "backgroundcolor": "rgb(17,17,17)",
            "gridcolor": "#506784",
            "gridwidth": 2,
            "linecolor": "#506784",
            "showbackground": true,
            "ticks": "",
            "zerolinecolor": "#C8D4E3"
           },
           "zaxis": {
            "backgroundcolor": "rgb(17,17,17)",
            "gridcolor": "#506784",
            "gridwidth": 2,
            "linecolor": "#506784",
            "showbackground": true,
            "ticks": "",
            "zerolinecolor": "#C8D4E3"
           }
          },
          "shapedefaults": {
           "line": {
            "color": "#f2f5fa"
           }
          },
          "sliderdefaults": {
           "bgcolor": "#C8D4E3",
           "bordercolor": "rgb(17,17,17)",
           "borderwidth": 1,
           "tickwidth": 0
          },
          "ternary": {
           "aaxis": {
            "gridcolor": "#506784",
            "linecolor": "#506784",
            "ticks": ""
           },
           "baxis": {
            "gridcolor": "#506784",
            "linecolor": "#506784",
            "ticks": ""
           },
           "bgcolor": "rgb(17,17,17)",
           "caxis": {
            "gridcolor": "#506784",
            "linecolor": "#506784",
            "ticks": ""
           }
          },
          "title": {
           "x": 0.05
          },
          "updatemenudefaults": {
           "bgcolor": "#506784",
           "borderwidth": 0
          },
          "xaxis": {
           "automargin": true,
           "gridcolor": "#283442",
           "linecolor": "#506784",
           "ticks": "",
           "title": {
            "standoff": 15
           },
           "zerolinecolor": "#283442",
           "zerolinewidth": 2
          },
          "yaxis": {
           "automargin": true,
           "gridcolor": "#283442",
           "linecolor": "#506784",
           "ticks": "",
           "title": {
            "standoff": 15
           },
           "zerolinecolor": "#283442",
           "zerolinewidth": 2
          }
         }
        },
        "title": {
         "text": "PCA Features"
        },
        "xaxis": {
         "anchor": "y",
         "domain": [
          0,
          1
         ],
         "title": {
          "text": "Features"
         }
        },
        "yaxis": {
         "anchor": "x",
         "domain": [
          0,
          1
         ],
         "title": {
          "text": "Variance"
         }
        }
       }
      }
     },
     "metadata": {},
     "output_type": "display_data"
    }
   ],
   "source": [
    "ndf = df.drop(['diagnosis'], axis= 1)\n",
    "df_ = StandardScaler().fit_transform(df_)\n",
    "\n",
    "pca_1 = PCA(n_components=9)\n",
    "pca_fit = pca_1.fit_transform(df_)\n",
    "\n",
    "\n",
    "features = range(pca_1.n_components_)\n",
    "\n",
    "fig = px.bar(x=features, y=pca_1.explained_variance_, template='plotly_dark')\n",
    "fig.update_layout(title='PCA Features')\n",
    "fig.update_xaxes(title_text=\"Features\")\n",
    "fig.update_yaxes(title_text=\"Variance\")\n",
    "\n",
    "fig.show()"
   ]
  },
  {
   "cell_type": "code",
   "execution_count": 14,
   "id": "e0f8af17",
   "metadata": {
    "execution": {
     "iopub.execute_input": "2022-09-03T12:35:23.674211Z",
     "iopub.status.busy": "2022-09-03T12:35:23.673491Z",
     "iopub.status.idle": "2022-09-03T12:35:23.933337Z",
     "shell.execute_reply": "2022-09-03T12:35:23.932050Z"
    },
    "papermill": {
     "duration": 0.285217,
     "end_time": "2022-09-03T12:35:23.936481",
     "exception": false,
     "start_time": "2022-09-03T12:35:23.651264",
     "status": "completed"
    },
    "tags": []
   },
   "outputs": [
    {
     "data": {
      "image/png": "[encoded data removed]",
      "text/plain": [
       "<Figure size 640x480 with 1 Axes>"
      ]
     },
     "metadata": {},
     "output_type": "display_data"
    }
   ],
   "source": [
    "plt.xlabel(\"Number of Components\")\n",
    "plt.ylabel(\"Cumulative Rate of Variance\")\n",
    "plt.plot(np.cumsum(pca.explained_variance_ratio_))\n",
    "plt.show()"
   ]
  },
  {
   "cell_type": "code",
   "execution_count": 15,
   "id": "e080b429",
   "metadata": {
    "execution": {
     "iopub.execute_input": "2022-09-03T12:35:23.954944Z",
     "iopub.status.busy": "2022-09-03T12:35:23.954247Z",
     "iopub.status.idle": "2022-09-03T12:35:23.961962Z",
     "shell.execute_reply": "2022-09-03T12:35:23.960191Z"
    },
    "papermill": {
     "duration": 0.020312,
     "end_time": "2022-09-03T12:35:23.965097",
     "exception": false,
     "start_time": "2022-09-03T12:35:23.944785",
     "status": "completed"
    },
    "tags": []
   },
   "outputs": [
    {
     "name": "stdout",
     "output_type": "stream",
     "text": [
      "[44.27 63.24 72.63 79.23 84.73 88.75 91.   92.59 93.98 95.15 96.13 97.\n",
      " 97.8  98.32 98.63 98.9  99.1  99.28 99.44 99.54 99.64 99.73 99.81 99.87\n",
      " 99.92 99.95 99.97 99.98 99.98 99.98]\n"
     ]
    }
   ],
   "source": [
    "var1 = np.cumsum(np.round(pca.explained_variance_ratio_,decimals = 4) * 100)\n",
    "print(var1)"
   ]
  },
  {
   "cell_type": "code",
   "execution_count": 16,
   "id": "b075cca5",
   "metadata": {
    "execution": {
     "iopub.execute_input": "2022-09-03T12:35:23.983947Z",
     "iopub.status.busy": "2022-09-03T12:35:23.983476Z",
     "iopub.status.idle": "2022-09-03T12:35:24.213667Z",
     "shell.execute_reply": "2022-09-03T12:35:24.212406Z"
    },
    "papermill": {
     "duration": 0.243087,
     "end_time": "2022-09-03T12:35:24.216760",
     "exception": false,
     "start_time": "2022-09-03T12:35:23.973673",
     "status": "completed"
    },
    "tags": []
   },
   "outputs": [
    {
     "data": {
      "text/plain": [
       "Text(0, 0.5, 'Cumulative Proportion variance explained')"
      ]
     },
     "execution_count": 16,
     "metadata": {},
     "output_type": "execute_result"
    },
    {
     "data": {
      "image/png": "[encoded data removed]",
      "text/plain": [
       "<Figure size 640x480 with 1 Axes>"
      ]
     },
     "metadata": {},
     "output_type": "display_data"
    }
   ],
   "source": [
    "plt.plot(var1)\n",
    "plt.hlines(95,0,32,colors='red',linestyles='dashed')\n",
    "plt.xlabel(\"Principal Components\")\n",
    "plt.ylabel(\"Cumulative Proportion variance explained\")"
   ]
  },
  {
   "cell_type": "code",
   "execution_count": 17,
   "id": "9170a856",
   "metadata": {
    "execution": {
     "iopub.execute_input": "2022-09-03T12:35:24.235780Z",
     "iopub.status.busy": "2022-09-03T12:35:24.235369Z",
     "iopub.status.idle": "2022-09-03T12:35:24.241645Z",
     "shell.execute_reply": "2022-09-03T12:35:24.240321Z"
    },
    "papermill": {
     "duration": 0.019463,
     "end_time": "2022-09-03T12:35:24.244915",
     "exception": false,
     "start_time": "2022-09-03T12:35:24.225452",
     "status": "completed"
    },
    "tags": []
   },
   "outputs": [
    {
     "name": "stdout",
     "output_type": "stream",
     "text": [
      "Optimum Number of Components 9\n"
     ]
    }
   ],
   "source": [
    "# to find principal component which is taken greather than 95 %\n",
    "Num_components = var1<95\n",
    "print(\"Optimum Number of Components\",Num_components.sum())"
   ]
  },
  {
   "cell_type": "markdown",
   "id": "7482cdbd",
   "metadata": {
    "papermill": {
     "duration": 0.008564,
     "end_time": "2022-09-03T12:35:24.263418",
     "exception": false,
     "start_time": "2022-09-03T12:35:24.254854",
     "status": "completed"
    },
    "tags": []
   },
   "source": [
    "<a id = \"2\"></a><h1 id=\"Introduction\"><span class=\"label label-default\" style=\"background-color:#D84E5F; border-radius:12px; font-weight: bold; font-family:Verdana; font-size:22px; color:#FBFAFC; \">🛠 Creating the Final PCA 🛠</span></h1>"
   ]
  },
  {
   "cell_type": "code",
   "execution_count": 18,
   "id": "e913c568",
   "metadata": {
    "execution": {
     "iopub.execute_input": "2022-09-03T12:35:24.283254Z",
     "iopub.status.busy": "2022-09-03T12:35:24.282220Z",
     "iopub.status.idle": "2022-09-03T12:35:24.287982Z",
     "shell.execute_reply": "2022-09-03T12:35:24.286626Z"
    },
    "papermill": {
     "duration": 0.01833,
     "end_time": "2022-09-03T12:35:24.290404",
     "exception": false,
     "start_time": "2022-09-03T12:35:24.272074",
     "status": "completed"
    },
    "tags": []
   },
   "outputs": [],
   "source": [
    "df = data.copy()"
   ]
  },
  {
   "cell_type": "code",
   "execution_count": 19,
   "id": "bcb04612",
   "metadata": {
    "execution": {
     "iopub.execute_input": "2022-09-03T12:35:24.310312Z",
     "iopub.status.busy": "2022-09-03T12:35:24.309264Z",
     "iopub.status.idle": "2022-09-03T12:35:24.335686Z",
     "shell.execute_reply": "2022-09-03T12:35:24.333892Z"
    },
    "papermill": {
     "duration": 0.039772,
     "end_time": "2022-09-03T12:35:24.338857",
     "exception": false,
     "start_time": "2022-09-03T12:35:24.299085",
     "status": "completed"
    },
    "tags": []
   },
   "outputs": [],
   "source": [
    "y = df['diagnosis'] # Dependent variable \n",
    "X = df.drop(['diagnosis', 'id', 'Unnamed: 32'], axis=1) # Independent Variable \n",
    "\n",
    "\n",
    "def create_pca_df(X, y):\n",
    "    X = StandardScaler().fit_transform(X)\n",
    "    pca = PCA(n_components=2)\n",
    "    pca_fit = pca.fit_transform(X)\n",
    "    pca_df = pd.DataFrame(data=pca_fit, columns=['PC1', 'PC2'])\n",
    "    final_df = pd.concat([pca_df, pd.DataFrame(y)], axis=1)\n",
    "    return final_df\n",
    "\n",
    "pca_df = create_pca_df(X, y)"
   ]
  },
  {
   "cell_type": "code",
   "execution_count": 20,
   "id": "479991f1",
   "metadata": {
    "execution": {
     "iopub.execute_input": "2022-09-03T12:35:24.383401Z",
     "iopub.status.busy": "2022-09-03T12:35:24.382698Z",
     "iopub.status.idle": "2022-09-03T12:35:24.704541Z",
     "shell.execute_reply": "2022-09-03T12:35:24.703327Z"
    },
    "papermill": {
     "duration": 0.348258,
     "end_time": "2022-09-03T12:35:24.707220",
     "exception": false,
     "start_time": "2022-09-03T12:35:24.358962",
     "status": "completed"
    },
    "tags": []
   },
   "outputs": [
    {
     "data": {
      "image/png": "[encoded data removed]",
      "text/plain": [
       "<Figure size 700x500 with 1 Axes>"
      ]
     },
     "metadata": {},
     "output_type": "display_data"
    }
   ],
   "source": [
    "def plot_pca(dataframe, target):\n",
    "    fig = plt.figure(figsize=(7, 5))\n",
    "    ax = fig.add_subplot(1, 1, 1)\n",
    "    ax.set_xlabel('PC1', fontsize=15)\n",
    "    ax.set_ylabel('PC2', fontsize=15)\n",
    "    ax.set_title(f'{target.capitalize()} ', fontsize=20)\n",
    "\n",
    "    targets = list(dataframe[target].unique())\n",
    "    colors = random.sample([\"black\", \"red\",\"yellow\",\"green\"], len(targets))\n",
    "\n",
    "    for t, color in zip(targets, colors):\n",
    "        indices = dataframe[target] == t\n",
    "        ax.scatter(dataframe.loc[indices, 'PC1'], dataframe.loc[indices, 'PC2'], c=color, s=30)\n",
    "    ax.legend(targets)\n",
    "    ax.grid()\n",
    "    plt.show()\n",
    "\n",
    "plot_pca(pca_df, \"diagnosis\")"
   ]
  },
  {
   "cell_type": "markdown",
   "id": "153c7886",
   "metadata": {},
   "source": []
  },
  {
   "cell_type": "code",
   "execution_count": 21,
   "id": "eff5a14e",
   "metadata": {},
   "outputs": [
    {
     "data": {
      "text/html": [
       "<div>\n",
       "<style scoped>\n",
       "    .dataframe tbody tr th:only-of-type {\n",
       "        vertical-align: middle;\n",
       "    }\n",
       "\n",
       "    .dataframe tbody tr th {\n",
       "        vertical-align: top;\n",
       "    }\n",
       "\n",
       "    .dataframe thead th {\n",
       "        text-align: right;\n",
       "    }\n",
       "</style>\n",
       "<table border=\"1\" class=\"dataframe\">\n",
       "  <thead>\n",
       "    <tr style=\"text-align: right;\">\n",
       "      <th></th>\n",
       "      <th>Feature 1</th>\n",
       "      <th>Feature 2</th>\n",
       "      <th>Feature 3</th>\n",
       "      <th>Cluster</th>\n",
       "    </tr>\n",
       "  </thead>\n",
       "  <tbody>\n",
       "    <tr>\n",
       "      <th>0</th>\n",
       "      <td>-2.062593</td>\n",
       "      <td>-2.753965</td>\n",
       "      <td>-2.280675</td>\n",
       "      <td>1</td>\n",
       "    </tr>\n",
       "    <tr>\n",
       "      <th>1</th>\n",
       "      <td>-1.791617</td>\n",
       "      <td>-4.041735</td>\n",
       "      <td>-2.247177</td>\n",
       "      <td>1</td>\n",
       "    </tr>\n",
       "    <tr>\n",
       "      <th>2</th>\n",
       "      <td>-2.297564</td>\n",
       "      <td>-0.624293</td>\n",
       "      <td>-2.150056</td>\n",
       "      <td>1</td>\n",
       "    </tr>\n",
       "    <tr>\n",
       "      <th>3</th>\n",
       "      <td>-1.290996</td>\n",
       "      <td>-2.089736</td>\n",
       "      <td>-0.559883</td>\n",
       "      <td>1</td>\n",
       "    </tr>\n",
       "    <tr>\n",
       "      <th>4</th>\n",
       "      <td>1.426338</td>\n",
       "      <td>1.453141</td>\n",
       "      <td>1.967247</td>\n",
       "      <td>0</td>\n",
       "    </tr>\n",
       "  </tbody>\n",
       "</table>\n",
       "</div>"
      ],
      "text/plain": [
       "   Feature 1  Feature 2  Feature 3  Cluster\n",
       "0  -2.062593  -2.753965  -2.280675        1\n",
       "1  -1.791617  -4.041735  -2.247177        1\n",
       "2  -2.297564  -0.624293  -2.150056        1\n",
       "3  -1.290996  -2.089736  -0.559883        1\n",
       "4   1.426338   1.453141   1.967247        0"
      ]
     },
     "execution_count": 21,
     "metadata": {},
     "output_type": "execute_result"
    }
   ],
   "source": [
    "import numpy as np\n",
    "import pandas as pd\n",
    "from sklearn.datasets import make_blobs\n",
    "import plotly.express as px\n",
    "from sklearn.decomposition import PCA\n",
    "import matplotlib as plt\n",
    "\n",
    "\n",
    "n_samples = 500\n",
    "centers = [[2, 2, 2], [-2, -2, -2]] \n",
    "cluster_std = [1.0, 1.0]  \n",
    "\n",
    "X, y = make_blobs(n_samples=n_samples, centers=centers, cluster_std=cluster_std, random_state=42)\n",
    "\n",
    "df = pd.DataFrame(X, columns=[\"Feature 1\", \"Feature 2\", \"Feature 3\"])\n",
    "df[\"Cluster\"] = y  # Add cluster labels\n",
    "\n",
    "df.head()\n"
   ]
  },
  {
   "cell_type": "code",
   "execution_count": 22,
   "id": "f8d45494",
   "metadata": {},
   "outputs": [
    {
     "data": {
      "application/vnd.plotly.v1+json": {
       "config": {
        "plotlyServerURL": "https://plot.ly"
       },
       "data": [
        {
         "hovertemplate": "Feature 1=%{x}<br>Feature 2=%{y}<br>Feature 3=%{z}<br>Cluster Label=%{marker.color}<extra></extra>",
         "legendgroup": "",
         "marker": {
          "color": [
           1,
           1,
           1,
           1,
           0,
           0,
           0,
           0,
           1,
           0,
           0,
           0,
           0,
           1,
           1,
           0,
           0,
           0,
           1,
           1,
           1,
           1,
           1,
           1,
           0,
           1,
           0,
           1,
           1,
           0,
           1,
           0,
           1,
           0,
           1,
           1,
           1,
           1,
           0,
           0,
           0,
           1,
           0,
           1,
           0,
           0,
           1,
           1,
           0,
           0,
           1,
           0,
           0,
           0,
           0,
           1,
           0,
           1,
           1,
           1,
           1,
           1,
           1,
           0,
           1,
           1,
           1,
           1,
           1,
           0,
           0,
           1,
           0,
           0,
           0,
           0,
           1,
           0,
           1,
           1,
           1,
           1,
           0,
           0,
           0,
           0,
           0,
           1,
           0,
           1,
           0,
           0,
           0,
           1,
           1,
           1,
           1,
           0,
           1,
           0,
           0,
           0,
           0,
           0,
           0,
           0,
           0,
           1,
           1,
           0,
           1,
           1,
           0,
           0,
           0,
           0,
           0,
           1,
           0,
           0,
           1,
           0,
           0,
           1,
           0,
           1,
           1,
           0,
           1,
           0,
           1,
           1,
           1,
           1,
           0,
           1,
           1,
           0,
           1,
           0,
           0,
           1,
           0,
           0,
           0,
           1,
           1,
           1,
           1,
           0,
           1,
           0,
           1,
           0,
           1,
           0,
           0,
           1,
           0,
           1,
           1,
           1,
           1,
           1,
           1,
           0,
           1,
           0,
           0,
           0,
           0,
           0,
           0,
           1,
           1,
           1,
           0,
           0,
           1,
           0,
           1,
           1,
           1,
           1,
           1,
           0,
           0,
           0,
           1,
           1,
           0,
           0,
           1,
           1,
           1,
           1,
           1,
           0,
           0,
           0,
           0,
           0,
           0,
           1,
           0,
           1,
           1,
           0,
           0,
           0,
           1,
           1,
           1,
           1,
           0,
           1,
           1,
           1,
           0,
           1,
           0,
           0,
           1,
           0,
           0,
           0,
           1,
           0,
           0,
           0,
           1,
           0,
           1,
           0,
           1,
           0,
           0,
           0,
           0,
           0,
           1,
           1,
           1,
           0,
           1,
           0,
           0,
           1,
           1,
           0,
           1,
           1,
           0,
           1,
           0,
           1,
           1,
           0,
           0,
           1,
           1,
           0,
           0,
           0,
           1,
           0,
           0,
           0,
           0,
           0,
           1,
           1,
           1,
           0,
           1,
           0,
           1,
           1,
           0,
           0,
           0,
           1,
           1,
           1,
           1,
           0,
           1,
           0,
           0,
           1,
           0,
           1,
           1,
           0,
           1,
           0,
           1,
           0,
           0,
           1,
           0,
           1,
           0,
           1,
           0,
           1,
           0,
           1,
           0,
           1,
           1,
           1,
           0,
           0,
           0,
           1,
           0,
           1,
           0,
           0,
           0,
           0,
           0,
           1,
           1,
           0,
           0,
           0,
           1,
           0,
           0,
           0,
           1,
           1,
           1,
           0,
           1,
           0,
           1,
           1,
           1,
           1,
           1,
           1,
           1,
           0,
           0,
           0,
           1,
           0,
           1,
           1,
           0,
           1,
           0,
           0,
           0,
           0,
           1,
           0,
           0,
           0,
           0,
           1,
           0,
           0,
           0,
           0,
           1,
           0,
           1,
           1,
           1,
           0,
           1,
           1,
           1,
           0,
           1,
           0,
           0,
           1,
           1,
           1,
           0,
           1,
           1,
           0,
           0,
           1,
           0,
           1,
           0,
           0,
           1,
           0,
           0,
           0,
           1,
           1,
           1,
           0,
           0,
           1,
           1,
           0,
           1,
           1,
           0,
           1,
           0,
           0,
           1,
           1,
           0,
           1,
           1,
           1,
           0,
           1,
           0,
           1,
           1,
           1,
           0,
           1,
           1,
           0,
           1,
           1,
           0,
           0,
           1,
           1,
           1,
           1,
           1,
           1,
           1,
           0,
           1,
           0,
           0,
           0,
           1,
           1,
           0,
           0,
           1,
           0,
           0,
           0,
           1,
           1,
           1,
           0,
           0,
           0,
           1,
           0,
           1,
           0,
           1,
           0,
           1,
           1,
           1,
           1,
           1,
           1,
           0,
           1,
           0,
           1,
           0,
           0,
           1,
           0,
           0,
           1,
           0,
           0,
           1,
           1,
           0,
           1,
           1,
           0,
           0,
           0,
           0,
           1,
           0,
           1,
           1,
           1,
           1,
           0,
           0,
           0
          ],
          "coloraxis": "coloraxis",
          "size": 5,
          "symbol": "circle"
         },
         "mode": "markers",
         "name": "",
         "scene": "scene",
         "showlegend": false,
         "type": "scatter3d",
         "x": [
          -2.062593127899522,
          -1.7916171920524475,
          -2.297563503359992,
          -1.2909962424114876,
          1.4263379931197637,
          1.4694988523894725,
          3.277664895788425,
          2.005243699718183,
          0.165002344901084,
          2.375698018345672,
          2.632781866106285,
          3.4960443114891833,
          0.04791220047749811,
          -1.8079508835099685,
          -0.949345603992388,
          4.060747924881987,
          1.6149177195836835,
          1.4377124707590272,
          -2.4281151609659126,
          -0.32229918592355933,
          -3.0962750868952016,
          -2.4344962274323154,
          -1.6227881249354792,
          -1.4499479009754481,
          2.4127809269364984,
          -1.1660778454510958,
          0.7778721911080546,
          -0.15329267426396642,
          -1.9429868751029156,
          2.6565536086338297,
          -0.5466155228822991,
          2.326133022242118,
          -1.0809235170122315,
          0.6955304994951468,
          -1.349798822041339,
          -2.67639230205927,
          -1.1226377094243287,
          -2.898467981791037,
          1.1915063971068123,
          3.355637858804951,
          2.6228499323474987,
          -1.456701970963612,
          2.270456825779839,
          0.1632547233054602,
          3.8314587658543537,
          3.586016816145352,
          -2.5522230442809715,
          -1.8804196315858468,
          2.517659020469123,
          2.1864543147694278,
          -0.7916337694068576,
          2.743264094022715,
          1.3548802453948756,
          2.394452142378297,
          1.348163892197841,
          -1.8744235465284578,
          1.3002744920074143,
          -1.8034452234884253,
          -2.1769472274940496,
          -4.198805956620082,
          -0.37160337687146194,
          -1.6175902538159495,
          -2.1209481486077815,
          2.2575503907227645,
          -3.146345393018688,
          -2.186871644161359,
          -1.5745424382150353,
          -1.513498356173798,
          -3.0265152994110602,
          1.398293387770603,
          1.7272764302523296,
          -2.44328225119151,
          2.19905969557347,
          2.018418379189552,
          2.482472415243185,
          2.5389100436846586,
          -0.9468471466670965,
          2.481009231736713,
          -1.357277240132456,
          -1.710831356092182,
          -1.4921642437103761,
          -0.6178410089624728,
          1.5881230338775327,
          2.8254163489880297,
          3.0915068519224618,
          1.937320902726828,
          2.835692112065142,
          -2.9186519464841982,
          2.2322536971610036,
          -1.6783021938039864,
          0.48515277531413536,
          2.4714683571359957,
          3.8761708392158862,
          -2.846961348318328,
          -0.9463582033921605,
          -3.103589317215771,
          -0.20231347315047743,
          3.865774511144757,
          -2.1671217137864116,
          2.4017117220989412,
          1.5731189300525799,
          1.9877532271530853,
          2.1156746342928585,
          1.815097863557011,
          1.2956563094572409,
          2.570890510693167,
          0.9376962862738951,
          -0.8918171832624835,
          -2.6819842479977987,
          1.2271747854624282,
          -1.6007768773947206,
          -1.7662140882092523,
          3.5792128155073915,
          3.1677820616598074,
          1.2216952745976872,
          1.525054688839044,
          3.3071427542824283,
          -2.1112260613487,
          1.6251791924504024,
          1.6573124059196513,
          -2.570746293749476,
          2.1968612358691235,
          1.9404746439382,
          -2.5624667758942676,
          1.7404086486363952,
          -1.9896473801566195,
          -1.5043181120273954,
          2.2240924818104166,
          -1.240844839697353,
          1.0212362842176925,
          -2.152469836380544,
          -1.7329497341307412,
          -1.985311805270803,
          -1.9403696300798259,
          0.29661756064484535,
          -2.6389617476895024,
          -1.322074128660731,
          1.1360092303201839,
          -3.2276078151369925,
          2.2449665711087228,
          1.2846962907400319,
          -2.446433614550528,
          2.3078017688920593,
          1.8076390352188776,
          1.7305931655554423,
          -0.8512342996278965,
          -3.6609609335159914,
          -3.0227925651984053,
          -1.6479446034857033,
          2.235614558108566,
          -0.25042325681306066,
          1.973486124550783,
          -2.0255540709914452,
          1.892969640045442,
          -2.0346848873867813,
          2.058208718446,
          2.1292211819752276,
          -1.775548181440028,
          2.496714153011233,
          -1.4633472474727138,
          -2.5176112990361714,
          -1.7284211628046267,
          -1.7209784742296608,
          -2.6373871273065177,
          -2.7859894605079494,
          2.60600995134564,
          -1.739326234176093,
          2.296120277064576,
          3.593186626639397,
          3.4412732890661157,
          1.8843517176117595,
          1.6146864031382397,
          2.756988616645352,
          -0.9345196249346488,
          -2.6269670577877675,
          -0.26403619683475066,
          1.0601202136726449,
          2.4725974824130432,
          -3.0534155631736564,
          1.927989878419666,
          -1.0656800887607263,
          -3.515744114997232,
          -1.182233700799713,
          -2.4677012013118915,
          -0.3926544239800074,
          2.791031947043047,
          1.7654128666248532,
          1.6154444557701746,
          0.29094257259074174,
          -1.9619965218317996,
          0.9919136890825959,
          1.2221833124091246,
          -2.5574917850078336,
          -3.224298236289366,
          -2.5551995266931984,
          -0.42601323670996716,
          -1.611421395469036,
          2.5951570254369134,
          1.3373762410541534,
          3.143754043206929,
          1.9623652975751515,
          2.5193465142411724,
          1.0924363379584021,
          0.5581992856682523,
          3.2378163119734618,
          0.2988981236192503,
          -2.730930039941919,
          1.4556172754748173,
          3.201213922163945,
          0.2868654709091225,
          0.5797093376543185,
          -1.8532863135666773,
          -1.3612697779708154,
          -1.0504458645586763,
          4.57335980324986,
          -2.4838858340543215,
          -2.049463709652433,
          -2.4588842628689402,
          1.9641739608900484,
          -0.7639068247895626,
          2.0917607765355024,
          1.4006073545559778,
          -0.8049533710751575,
          1.7450227825791447,
          2.610370265433465,
          1.779030400466777,
          0.5600845382687947,
          2.203463635867223,
          2.2088635950047553,
          -0.30192116473558483,
          -2.6255627015095295,
          -0.08192940788372205,
          -1.605328470177019,
          2.473237624573545,
          -2.7031764251258874,
          1.2801557916052912,
          1.9809837920973112,
          3.5499344050175394,
          2.3323140119795918,
          0.9422890710440996,
          -1.9969539798465856,
          -0.7995860920555746,
          -1.3371187313325872,
          2.7916626939629356,
          -2.213442870930208,
          1.456575228866235,
          2.5425600435859645,
          -1.5066820991191108,
          0.40341558523827503,
          0.19511789933548096,
          -3.1701130260593597,
          0.0767479835608409,
          1.1710049890779277,
          -1.665543210012975,
          3.6654744444625766,
          -2.185287658877708,
          -1.0182345130084056,
          0.831321962380468,
          1.4362754471960253,
          -1.943350075102893,
          -1.6901792897729724,
          1.8742130799003518,
          1.7978073475661058,
          1.9032868881296077,
          -2.546244448252483,
          3.158595579007404,
          2.651391251305798,
          4.122156197012633,
          2.8816397569494505,
          1.7742236995134644,
          -0.7723310075267078,
          -2.516044728217374,
          -1.971681623869539,
          2.8303358165442454,
          -1.4360908799476404,
          1.7474318486068396,
          -2.370614332086106,
          -1.389414254716177,
          2.935678393147461,
          0.5981489372077191,
          2.2809918677350325,
          -1.5780792457647153,
          -0.9141044341684219,
          -2.348652134407859,
          -2.045586016355498,
          2.821902504375224,
          -2.5309969550018176,
          1.1841897150345617,
          3.9094166404701305,
          -0.9901829106573659,
          2.010233061019587,
          -0.6718058581509421,
          -1.4927259688927021,
          4.143944089325325,
          -3.6929568141953855,
          2.6159356069442636,
          -1.5229591727768785,
          0.7049212279363839,
          2.5607845263682343,
          -3.2239402667622565,
          1.6907876241487854,
          -2.4201868170958574,
          1.6723378534022317,
          -2.9206735930793664,
          2.0184339330653933,
          -1.1664710383910752,
          2.3570154859650474,
          -2.9393353938187543,
          2.276690799330019,
          -0.811606726551916,
          -2.5805234498047227,
          -2.0641383465929923,
          1.1243817466152428,
          3.451143607795042,
          0.24126051357688572,
          -3.430775102118048,
          2.385317379728837,
          -3.3340254949182047,
          1.3228382884878882,
          0.8037933759193292,
          3.5230298564080256,
          2.241962271566034,
          2.2140937441302038,
          -1.5809809906339547,
          -2.174959756695409,
          1.5069990653411671,
          2.3436182895684614,
          2.2597225017214817,
          -2.1906824007633467,
          1.349357430878173,
          1.0094636748693118,
          2.3571125715117462,
          -1.4274172186438414,
          -1.4000712700037954,
          -1.0816833939976869,
          1.2074792615672993,
          -2.6127886904843862,
          1.5157659271337487,
          -3.5839028234857233,
          -1.0836723252975187,
          -1.7592468205114318,
          -2.4374583003234105,
          -2.6057149230033385,
          -1.4771645119645003,
          -1.0674091681269102,
          3.1265650295477574,
          2.443819428146228,
          1.101585328651642,
          -3.092312764672579,
          2.8657551941701214,
          -4.89625537819369,
          -0.7102472459172544,
          2.0773683076476184,
          -2.835347053259757,
          2.9715709509543555,
          0.8021221074111515,
          3.037539944257899,
          1.0350765394198955,
          -0.28829151985765655,
          1.226210800896427,
          0.7204230332642985,
          2.311250154543536,
          4.189802933217672,
          -2.244156635290649,
          1.0919759244787892,
          0.3384799377310401,
          2.248220586300336,
          1.52082576215471,
          -0.9697165459681578,
          1.2446170676466775,
          -1.8024003953076004,
          -1.059228812011784,
          -2.305224704354668,
          1.3960148132841794,
          -1.1842627874607032,
          -0.6982587106012019,
          -2.0036025390905685,
          1.4965243458838007,
          -1.9787284232639384,
          2.2799686263198202,
          1.769065469791322,
          -1.2410714102132347,
          -1.4920086730874562,
          -1.6065146145782503,
          1.7113413610798616,
          -2.4787486216634775,
          -0.9774295679903597,
          1.3534271157574733,
          1.9758749128899966,
          0.14227035861186366,
          2.021003841632759,
          -2.3370859711180394,
          2.8231705839619146,
          2.4040508568145382,
          -0.8033685133543489,
          2.4049817109609557,
          2.0970775493480405,
          1.7546118839971294,
          -0.45789004743212436,
          -2.1963498490849784,
          -3.0700847663261523,
          2.751387123371789,
          3.4415686206579004,
          -1.4093451693076906,
          -3.889540730945531,
          2.3072995208766094,
          0.013387247526623014,
          -2.998354040738791,
          1.240867338446302,
          -2.489439442518222,
          1.63903383418092,
          1.2326524371119505,
          -1.8153196941350915,
          -2.3881768185412287,
          2.513785950912209,
          -2.5286166817497566,
          -1.8222989990667462,
          -3.2968319479558463,
          2.0818741393863225,
          -2.7184072655691973,
          2.2598827942484236,
          -1.4416730874782777,
          -1.543246780846216,
          -2.1726272999408196,
          0.622330632042909,
          -2.1470020016284885,
          -0.7215481373927013,
          1.6572854834732305,
          -1.8582830863600952,
          -3.525656314570095,
          2.408252755714472,
          2.2504928503458768,
          -1.2723704563630203,
          -0.9504472846806649,
          -1.8166400802208444,
          -2.7534178703461833,
          -1.2996901205910087,
          -2.221253623585772,
          -0.49866634804451326,
          2.324166352488442,
          -1.3781900377828036,
          0.6795433869157237,
          0.8753579081621308,
          2.625667347765006,
          -1.159356451011276,
          -1.4475100455828522,
          0.5698586220393673,
          2.120295631711899,
          -1.00373318055286,
          2.6862601903745134,
          1.2269902161445336,
          2.216458589581975,
          -2.15852957302697,
          -0.9600953126039236,
          -3.592993733531669,
          2.81351721736967,
          2.150301761461878,
          1.9673052519059069,
          -2.2475186355515047,
          1.5223425532348833,
          -1.8747754973520927,
          1.8720824085192334,
          -1.6313266911270987,
          3.475356216949552,
          -3.0212328171307132,
          -0.5288296725063915,
          -3.359856140979919,
          -1.0039523141941835,
          -2.9232332461109043,
          -2.3649527295428854,
          2.2320499373576363,
          -0.2730361487665949,
          2.074094780419775,
          -3.9663565893760016,
          1.1745028032074885,
          2.57707212718054,
          -3.5763921569842494,
          0.8709482287827708,
          2.5009171876243808,
          -1.1615092255483581,
          3.030999522495951,
          1.7808994711911357,
          -3.119669894626144,
          -2.581680913948644,
          1.281555778747564,
          -3.760762759155818,
          -2.5640786307367285,
          2.3287511096596845,
          3.088950596967366,
          0.993982618500298,
          2.504046515517844,
          -0.7522579273262662,
          0.30753537028518063,
          -2.0807165801085823,
          -2.082151178392569,
          -1.7506163162892447,
          -2.701991687806755,
          3.453534077157317,
          4.075400798645439,
          3.6449677135012837
         ],
         "y": [
          -2.753964588866676,
          -4.041734868424291,
          -0.6242931866883805,
          -2.089735694287227,
          1.4531410587596079,
          1.4241817593553199,
          1.4084286111641702,
          2.046980593764742,
          -2.6435182303801428,
          1.399361310081195,
          4.270692857804396,
          2.6543656563540576,
          1.8482149049644168,
          -2.3091164642025013,
          -0.8944740670420162,
          3.7553408424432044,
          1.3230779996940414,
          0.9871688796655762,
          -0.49924020936568914,
          -2.5535882417079945,
          -3.4400508825942944,
          -2.3091721234686395,
          -0.4344759707656596,
          -2.9683444548636353,
          2.82206015999449,
          -1.5408199207715634,
          2.712998430172388,
          -1.416071814674036,
          -1.7314077211367431,
          1.0253183297726784,
          -0.42042785426928764,
          0.748886423614697,
          -2.290274544188651,
          2.6696725488300386,
          -2.099175863779383,
          -0.19905956708918437,
          -2.220964173829664,
          -1.9718188426308718,
          1.4982429564154636,
          2.413434903223701,
          0.9323795706174056,
          -1.9511399296742957,
          1.9497618905508631,
          -2.307778234953001,
          3.179440120721287,
          0.762184501173151,
          -1.3670681822444892,
          -2.9730689408815554,
          1.2742561868465345,
          1.338213535231612,
          -0.9759374741885376,
          2.170865438127942,
          2.361395605508414,
          1.579015519179737,
          2.047398671316414,
          -2.17307182428387,
          2.213979910734222,
          -0.9681554605313651,
          -2.7982972445384537,
          -1.5599855499466675,
          -2.379127740987487,
          -1.8335477917869438,
          -1.5804675560929722,
          1.9255540842338328,
          -1.6973645347609667,
          -2.439731058274175,
          -2.966976143129213,
          -1.9355255851898798,
          -1.867030325853124,
          3.852278184508938,
          -0.6968866429415717,
          -2.884802714026901,
          1.3997831228412054,
          3.676437312275283,
          1.7765372146741492,
          0.9627538456735436,
          -2.039555153856655,
          2.2238840242791316,
          -0.6708474698675686,
          0.45530013991089424,
          -1.461703920950367,
          -1.3512901124103573,
          1.5123937759275066,
          2.8135096360006386,
          3.2460851924976293,
          2.9551423205012384,
          0.8702931453423819,
          -3.0041407667520676,
          2.293072473298681,
          -2.6680904536430488,
          1.553485047932979,
          3.882024496475034,
          2.95042383818605,
          -2.9913923494563073,
          -2.949398888831943,
          -1.8201058488465216,
          -1.3591571387329902,
          2.4738329209117875,
          -1.7174200495117002,
          2.6901439917111123,
          0.9878956247398325,
          1.1027456285141684,
          3.1792971840638264,
          1.4772769794809606,
          0.5915387036364403,
          3.135565640180599,
          2.4735924306351817,
          -3.039905927125531,
          -3.0016200098949155,
          1.7631813932599911,
          -1.352804060297259,
          -3.555895646203627,
          2.767434729152909,
          2.254420843301213,
          2.1958452550976815,
          1.346670767426288,
          0.39251676543877245,
          -2.90390764146479,
          2.7109599682034915,
          1.6285591340042085,
          -2.8323555731042287,
          2.7384665799954107,
          -1.2412673400690726,
          -1.367592260944479,
          0.4968570468818938,
          -3.3118362323501596,
          -1.8495810948564235,
          2.012592400781795,
          -2.576510400726719,
          1.5557067399238884,
          -1.2918913233114095,
          -1.110369204376563,
          -2.7848983130822402,
          -2.646936777705574,
          1.9444523011033812,
          -3.3230897934074983,
          -2.4879114081457026,
          2.048521627944827,
          -1.402599930150142,
          1.4930568246288702,
          2.679597748934676,
          -1.8059100071016925,
          0.28983160734337443,
          2.3015473423336124,
          2.717542255795962,
          -3.7397137787781,
          -1.570381780867414,
          -2.257376537423345,
          -3.251539424190444,
          2.7708651938869666,
          -3.2438632353912853,
          2.0602302099410266,
          -0.8272709807406353,
          0.9647576775806259,
          -1.7657852674634793,
          0.8570297021693769,
          2.109394794604893,
          -0.9529016973878455,
          1.8617356988288154,
          -0.814295845337003,
          -1.7762120483611015,
          -3.276748575820309,
          -1.3921034902834608,
          -0.8109834688924482,
          -3.331232953557778,
          0.7195706475037169,
          -2.5503051538454202,
          2.261055272179889,
          1.4887843235688147,
          0.5641378488205606,
          1.6988963044107113,
          2.113517345251248,
          1.0778346758223747,
          -2.5172884501003723,
          -0.18755144200307128,
          -1.802089216537352,
          1.4861330826633066,
          2.2560297343138758,
          -2.6237689606958052,
          3.003532897892024,
          -3.3668786984154213,
          -0.45249479866993836,
          -0.6097924509826866,
          -1.6534961182692842,
          -1.5090250483617487,
          1.090612545205261,
          0.5846292579495858,
          3.0062928092144405,
          -3.389572466763596,
          -1.8799686732817387,
          0.12920807897414432,
          0.8894241545341712,
          -3.369802979579078,
          -2.209023257286025,
          -0.11884293055940987,
          -3.225765663002341,
          0.4929995174327906,
          1.1817793167665274,
          2.5705986685931594,
          2.3384964074944143,
          3.1033018820165212,
          3.5327389130025777,
          1.4232286694316674,
          -2.5642475986573885,
          0.4055723412056329,
          -2.362838560439659,
          -2.0331269728737973,
          2.1109225897098662,
          1.5919246269784486,
          3.353872374165413,
          -2.803674567969731,
          -0.7934910334916432,
          -3.1430049127304835,
          -3.4848979684499035,
          2.0592184340144883,
          -2.3203473081943202,
          -1.3251805078333962,
          -0.9213191665687044,
          3.564643655814006,
          -0.908689879405731,
          0.0124310853991072,
          -0.12389572430980689,
          -3.523186904783775,
          3.503992988582689,
          1.9790984060358519,
          2.614166700043425,
          -2.09605989972465,
          1.2436492547156965,
          0.04032987612022443,
          0.48480893780144774,
          -1.604196466562591,
          3.696456368290038,
          -3.1958830620351844,
          1.9271710873431271,
          -2.0349884904969615,
          1.5393612290402126,
          0.9974706353621912,
          1.2167467076637628,
          1.2515134634434464,
          2.822544912103189,
          -1.56306183025365,
          -2.6568942789713956,
          -0.826526142514675,
          2.624119817052155,
          -0.509273863150048,
          1.2871542173228356,
          1.5365823071875377,
          -1.815163876305126,
          -2.0576187970335855,
          0.37245756211683734,
          -3.8019804375800197,
          -1.6180645477684465,
          1.4398189598030304,
          -1.3414557273271694,
          3.0143700650181304,
          -2.1298206997334264,
          -2.3248313835086223,
          3.1428228145150205,
          1.1777796044335687,
          -1.4703072456432693,
          -1.3662231190679015,
          2.0557249122886945,
          1.7823187967727798,
          1.4550809131910503,
          -1.6081959945974535,
          1.1793176816482895,
          1.6847307553596544,
          3.032465260551147,
          1.9920273586833825,
          2.0675282046879238,
          -3.2096410186912054,
          -1.9038792230590167,
          -1.9702438605042547,
          1.1439161740911328,
          -1.4052456583347142,
          0.7522168180351505,
          -1.2283012893516552,
          -1.4402095520689602,
          3.2715550949941585,
          2.5868570938002704,
          1.3773004801794062,
          -0.38628873094135296,
          -1.5253017671200473,
          -2.3492577043184286,
          -1.756660550677308,
          2.087047068238171,
          -2.6231405264247645,
          1.9228982905858958,
          0.6014324261808588,
          -2.688150345177724,
          1.018491348952049,
          -1.44376999059934,
          -0.9333253104108461,
          2.633919022318011,
          -2.09833962679475,
          2.593101257968384,
          -1.9231781089397446,
          1.6642153007098717,
          3.083051243175277,
          -1.9659165317407739,
          2.331263431403564,
          -2.2817846088605074,
          1.6078918468678425,
          -1.830639175963922,
          2.347581705361671,
          -3.9937356425714556,
          1.3070904047393457,
          -2.1440875557216152,
          2.8271832490360236,
          0.5269324258736217,
          -1.4114215955793905,
          -1.6712375896965197,
          0.6172002690356639,
          2.959270826085207,
          0.8167414873342249,
          -1.8718955850892107,
          1.1161425637988671,
          -2.601367643951214,
          2.9751197334177513,
          2.812525822394198,
          1.765846625276664,
          0.08671975534220211,
          0.754261221288012,
          -2.705011855758409,
          -2.755745159492845,
          1.4106352430557885,
          0.23695984463726605,
          1.0956833748955914,
          -1.7825671268202772,
          1.512874616235304,
          1.433702270397228,
          3.4778940447415163,
          -0.6006445634139979,
          -0.46924916765630265,
          -3.5705006036231772,
          1.885263558533101,
          -2.387701559935984,
          3.2669111491866225,
          -1.2395853438557025,
          -1.6535115241020073,
          0.6016831141803949,
          -1.2776186421722286,
          -1.2579046279906931,
          -2.573700003938579,
          -3.4183657329330317,
          1.7311113094451693,
          2.7746340534293368,
          2.4919191715065057,
          -2.316408449694802,
          0.7997035929442238,
          0.08837470478072751,
          -1.3268186487300415,
          1.1387157986717362,
          0.1451491277733883,
          2.6453759495851474,
          3.9647251329163895,
          1.489983601145253,
          2.6860514599984393,
          -3.3719011429313563,
          0.755345296688583,
          1.3751814223043213,
          5.078880808455238,
          1.1917017146448485,
          -1.0359128317116428,
          0.5876962986647085,
          1.9339202013526835,
          1.540639100459756,
          1.814341023336183,
          -1.7612108409734866,
          1.3884821970080519,
          0.07526087262526548,
          -2.9824873935383094,
          -2.609512202159283,
          2.0865897874729,
          -1.1395265116402546,
          -0.4384888032731473,
          -3.1583646891925428,
          0.4493365689338673,
          -1.6911669874010362,
          0.8745109527016235,
          2.6962063648134182,
          -1.7188085760306242,
          -3.1033666061738736,
          -1.1048067799722676,
          2.3227185603380893,
          -0.7442438744264792,
          0.4397524063392728,
          0.918451996385605,
          2.198084760767855,
          -0.27245682989928866,
          2.681952971294964,
          -2.6134026635409398,
          2.073317967188404,
          3.8861859012105304,
          -2.609782904319382,
          0.7391160456649548,
          2.9686449905328893,
          1.2462638356425104,
          0.0060928881591229,
          -2.071601259414064,
          -3.525525170924739,
          0.33059471887862824,
          -0.4716445001272893,
          -0.8912964194170923,
          -2.4523063192490766,
          2.81286211883896,
          -1.8634646689172625,
          -1.0156776015234161,
          2.1503937864762075,
          -0.955839122930928,
          3.159329803364248,
          2.872320636720678,
          -3.3471262895296965,
          -1.8295837776245123,
          2.515047686306048,
          -1.4136359812449069,
          -3.3353443587101013,
          -1.6003120482473583,
          4.314658566673509,
          -1.1050756230555587,
          2.7818228717773104,
          -1.9239946085875885,
          -1.4302327197677962,
          -1.1163400625133275,
          1.062174960084877,
          -1.0361208832050903,
          -1.8089009319800966,
          1.197722730778381,
          0.3193295399816942,
          -0.7374158965728179,
          0.2974163957621596,
          2.346448209496976,
          -1.9480541141927006,
          -2.535235211560568,
          -2.0153098491729957,
          -1.5400278570608836,
          -2.5756378262377737,
          -2.2768132998889206,
          -2.3226798388421357,
          1.8698569456323155,
          -3.570224719890456,
          2.5219415656168978,
          0.4658858292643777,
          1.1428424435837174,
          -2.652623979302391,
          -1.7760858659353387,
          1.5599555133030163,
          2.514438834058749,
          -2.4937565831613124,
          0.38728412881034835,
          2.0245101742589426,
          2.045571839903814,
          -2.027304539509932,
          -2.6056155397368643,
          -1.559525262039601,
          0.7691356835660448,
          1.6363877877861441,
          -0.0674421000398766,
          -2.074433429100046,
          2.478979825746392,
          -2.429405541125253,
          1.0444595593995742,
          -2.393338812327361,
          2.8576596232020193,
          -1.2916435527006467,
          -2.209323677151866,
          -1.2537464339727793,
          -2.7567950885694605,
          -3.3516846056163336,
          -2.8392096673390066,
          0.5519156585026759,
          -2.3996361856146025,
          3.628615545571292,
          0.056207129940322176,
          1.6786141583470067,
          1.7969546139570074,
          -0.5234596502741042,
          1.4754797337202263,
          1.022444755201449,
          -1.918170641452435,
          2.931280119116199,
          2.8294055811834893,
          -3.294681475720906,
          -3.014756730692867,
          1.7865528482881528,
          -1.2466583788954675,
          -3.2803043986708946,
          1.4702397962329612,
          2.0642800190954627,
          0.7858113872122678,
          1.4697423816275592,
          -2.6734906242438683,
          3.529550319460614,
          -1.9213648096839093,
          -0.8827041684118724,
          -0.4225467202365256,
          -2.662900917550948,
          1.735343166762044,
          2.8711247034316925,
          1.7509639604436216
         ],
         "z": [
          -2.280675076866774,
          -2.2471773825205967,
          -2.1500555870325266,
          -0.5598827845505272,
          1.9672467297840015,
          1.724948302848356,
          2.5470973811700377,
          1.5499345285207564,
          -1.0721598719187628,
          1.7083062502067232,
          2.181866255058495,
          1.944415329089545,
          2.5883172064845765,
          -1.8664590952177176,
          -0.8129696944396199,
          1.7510358515209266,
          2.6116762888408678,
          2.314247332595274,
          -1.1497782578865072,
          -1.4310169208147245,
          -0.4054949367750278,
          -1.7778662283662872,
          -2.0657502610729876,
          -1.8946244938540402,
          3.896792982653947,
          -2.070165711458647,
          1.759674601841865,
          -2.3592920907870596,
          -0.47153157358746833,
          2.787084603742452,
          -2.522860027153268,
          2.924027019206901,
          -1.732607685928097,
          2.3665982460968484,
          -0.15336300395233415,
          -2.0401579506443435,
          -1.9731141610054692,
          -2.0091189966442036,
          2.915402117702074,
          3.8767958125580657,
          1.8576205149787066,
          -1.9594083087961176,
          1.7610519531335902,
          -1.780849672336061,
          1.5308243478952952,
          4.133033374656266,
          -1.7970769791487002,
          -0.8034284983355087,
          2.1867667644770785,
          2.852433334796224,
          -1.407473050798817,
          1.816016663647321,
          3.538036566465969,
          2.289774856896413,
          1.1395866347160477,
          -1.9844209524185326,
          1.8876719503091701,
          -3.485560373036972,
          -3.379319228014527,
          -2.5020542243526114,
          -2.203580360102362,
          -1.507548735991851,
          -2.8874921778021,
          0.08122878470095851,
          -2.754275850019358,
          -0.5530221156462671,
          -2.04771135614198,
          -3.9754665663538713,
          -2.700120814939173,
          1.986502775262066,
          1.9457051334821878,
          -2.172946059923423,
          2.0698020849900187,
          2.3269273737641627,
          2.714000494092092,
          1.8096613219163917,
          -1.3184993026273757,
          1.2095255445546882,
          -1.8034788302985298,
          -2.637739984251316,
          -0.9274926626901978,
          -2.1671180803168544,
          1.567441812180379,
          3.305478807154329,
          -0.07339023240814946,
          1.0142739536644563,
          2.529804177915283,
          -2.7677975651041287,
          1.285648581973632,
          -1.007957650463477,
          2.8563987943234723,
          3.3454200461549775,
          1.4230963443375968,
          -4.153390113603715,
          0.6323820648373908,
          -0.6079977136554007,
          -2.571178989782797,
          0.8086965027973514,
          -2.248691126183547,
          1.5987795281141637,
          0.34514332813423065,
          2.0758045581937266,
          2.067518481410109,
          3.0490092258368895,
          0.44337082647609627,
          2.9540017634932023,
          1.0805757657661967,
          -1.3872260949374304,
          -2.281100292885955,
          1.5146364521708966,
          -2.483186462299374,
          -1.669119767785543,
          1.5305256140650478,
          2.337602662075202,
          1.0216272223849678,
          3.765454240281097,
          2.184633858532304,
          -2.735529942589767,
          2.44426331148604,
          0.5924883052821788,
          -1.528584443613596,
          2.1713682811899706,
          0.9756123586657102,
          -1.0274455503732702,
          1.7542569359140556,
          -3.0651136630753726,
          -1.6350389975337745,
          2.0976760985488316,
          -4.59104229214491,
          2.377300493044852,
          -1.043297683205416,
          -1.9177160107245759,
          -1.351719566156141,
          -1.3017766863864102,
          2.384065448939307,
          -0.35798483986363094,
          0.15730821326550348,
          1.1690498835889622,
          -1.2988272576891018,
          1.5289616943816773,
          1.2696333682828633,
          -0.926368250140228,
          0.651814577894287,
          1.9652882302947567,
          3.502357052096028,
          -2.362440941403132,
          -1.7923123128368887,
          -3.6685840738775894,
          -0.5562353959267405,
          0.5214137542201585,
          -2.6929051977959073,
          4.463242112485286,
          -1.4563998454055676,
          1.446350694652818,
          -0.44949950718592313,
          2.3577873603482833,
          2.725766623898692,
          -0.3160723085421313,
          2.6476885381006925,
          -1.2810466893349333,
          -2.016422896072752,
          -3.0810565404082624,
          -1.813390876843642,
          -0.5794957520101451,
          -3.8362053731032963,
          3.754794181984365,
          -2.6716233679380514,
          2.005113456642461,
          1.010395179741419,
          3.1631637521549596,
          0.5214780096325726,
          2.6621306745210465,
          2.86960592010566,
          -0.5906525598144201,
          -1.2922480645445247,
          -2.6514180036144483,
          0.9407864781110484,
          2.982690983945514,
          -0.08596864613321387,
          2.361636025047634,
          -2.2247654018926837,
          -0.2041223269044783,
          -1.4421896936481378,
          -2.046920578879184,
          -1.2651222139501825,
          3.402794310936099,
          1.579354677234641,
          1.4231081304768511,
          -3.645398746956892,
          -1.3864820272695835,
          1.6484865159586914,
          3.7522704434236225,
          -2.088282048351255,
          -2.8505204542093,
          -3.4480139004162442,
          -3.46437488020982,
          -2.006070911539893,
          4.092387275685461,
          1.2367408434574831,
          1.5847120860991988,
          2.1142276486620397,
          1.8912398515431423,
          2.755391225825756,
          -1.815448696802963,
          1.4006249770462271,
          -2.4455025214007717,
          -0.20544213648221232,
          0.8490064225776972,
          -0.03812453517785386,
          1.8854601547473822,
          -0.36088319455593254,
          -2.816935670987236,
          -0.36656846769890405,
          -4.553921134901955,
          2.0139292919129463,
          -1.5758340535980837,
          -3.1227220215622986,
          -2.0385084695007074,
          -0.6197451040897444,
          -1.390861879092823,
          1.780328112162488,
          1.474244978319239,
          -2.5589218472715882,
          -0.650969808393012,
          2.117327383308782,
          2.757507710047305,
          -0.8507266737143242,
          0.5777462904023258,
          0.6718139511015695,
          3.3668742674445244,
          -1.5059698137172612,
          2.2110174672026184,
          -1.5553973317798593,
          1.153206281931595,
          -0.22919936436449007,
          3.0571222262189157,
          1.98148686400761,
          1.6779384837943243,
          3.551151975522523,
          0.7791563500289778,
          -0.8093537252136587,
          -3.04691098268194,
          -1.818978441296293,
          2.62834550926428,
          -1.8513325427978884,
          2.106430227691897,
          1.534270246429743,
          -2.8583577801812137,
          -1.7989009532850324,
          2.048084946661382,
          -1.4585372717952119,
          -1.5699583528089303,
          2.7472936051232617,
          0.010204538766349636,
          0.1591257686683547,
          -1.9561885280208904,
          -4.499405714873573,
          2.7519330326867744,
          2.2436872114919124,
          -2.070498778059091,
          -1.5862009025485018,
          3.0941915184709483,
          3.09877685198719,
          2.399136114352071,
          -3.4789115687741288,
          2.9633761292443217,
          2.7589692204932676,
          0.4806300340459866,
          3.479944138890026,
          0.5752518137865432,
          -0.3274276131622966,
          -2.4622752887050425,
          -1.0617161940240023,
          2.0715662372193924,
          -1.1465844412196922,
          3.6324113039316352,
          -4.8485426206300755,
          -0.9192192744453782,
          2.721672064043235,
          4.190455625809978,
          1.7918777496427247,
          -1.5464656984860201,
          -2.0250269587451437,
          -2.3216350512173825,
          -2.2412360578563297,
          1.7009926495341325,
          -2.5554771191602548,
          2.341151974816644,
          2.562969236690571,
          0.25243580534430876,
          2.462103474263271,
          -1.5441122279183923,
          -0.8307044095543272,
          -0.025142586657607158,
          -2.9885911071509175,
          1.6904535606860098,
          -3.2829922241885696,
          3.669021525289393,
          3.0538020520349027,
          -2.769973231058642,
          2.975545127122359,
          -3.3444505110342773,
          0.5364850518678814,
          -3.41371449690498,
          1.4602403196906386,
          -1.6259434301524278,
          2.8995998754332506,
          -3.2096947428411076,
          2.013001891877907,
          -2.5308687729203205,
          -0.33009549564859375,
          -1.678642784549727,
          2.9261775475316414,
          4.153182457511557,
          -0.03923217776010057,
          -2.681051657474881,
          2.153725105945528,
          -1.680218065857463,
          1.8529426184978615,
          3.3562400285708227,
          1.7658630430508195,
          0.27508216748696723,
          2.173180925851182,
          -2.0557690776577062,
          -1.4634901564295966,
          2.8496020970210245,
          2.324083969394795,
          2.638592458777374,
          -1.129932269311246,
          1.4076060757611308,
          2.099651365087641,
          1.4817297817263526,
          -1.0753663170872312,
          -0.7812381483026833,
          -2.9896281365703374,
          2.5049872789804573,
          -1.714134609275095,
          1.2923305343812193,
          -1.214199841349168,
          -1.0019898901403477,
          -1.4344903543684557,
          -2.372833152091767,
          -1.7007074195935081,
          -2.0243545922609827,
          -3.760808811980776,
          0.8934740912583297,
          1.0730695284219172,
          0.6797667929793578,
          -0.7869023000208166,
          1.6654987641590515,
          -2.1395896281551736,
          -2.138455983983774,
          3.5231240772696575,
          -3.187598419029513,
          3.368631557532349,
          2.035263551971729,
          1.7301250647066286,
          3.058424486849588,
          -3.613561397876741,
          0.2212797510957214,
          2.026091050210834,
          3.1195749114345768,
          1.1602781578192238,
          -0.8105295110753594,
          3.465648768921554,
          0.7889838002375433,
          1.1501556305352083,
          0.8936650259939718,
          -2.259042145820703,
          0.5933389031517777,
          -2.689187818089568,
          -2.2246331499970244,
          -2.186971302985446,
          1.8443227646079206,
          -2.5830774385689383,
          -1.9679958509342335,
          -0.4966016982328494,
          2.0685629748060275,
          -0.2977850553647621,
          4.445751979616826,
          3.848956094945345,
          -1.895798896048124,
          -4.152890592952483,
          -1.3648281983180306,
          1.172769056447677,
          -2.894607302219504,
          -0.6157271814894818,
          3.6871416350725648,
          1.8556395880760574,
          -1.563676330325968,
          1.689733243406544,
          -2.3024696864881284,
          0.7100391002589461,
          2.174577812831839,
          -2.1340171666729177,
          2.917861947054776,
          1.2979469061226476,
          1.1104855703744767,
          0.06150357663639783,
          -2.037222236509842,
          -2.6919080698812445,
          2.543360192379935,
          1.203104744529523,
          -1.179517818802636,
          -4.423879326628956,
          2.629628841923612,
          -2.3653215513121086,
          -2.213988844225509,
          2.3417559757771595,
          -1.3181085103736887,
          0.9189366724001027,
          2.1833420057383517,
          -2.9716140385106513,
          -1.8394260189501355,
          5.852731490654721,
          -0.7617169285663643,
          -1.6198021489940369,
          -2.651356893791829,
          0.13273480740825194,
          -2.294949678292028,
          0.763049289121918,
          -1.4612440075536308,
          -1.552291439982685,
          -1.3476771215865804,
          2.5150352672086598,
          0.2105230015913513,
          -1.9535634518438512,
          1.8387142883339909,
          -1.606682160605628,
          -2.5518581458924467,
          3.0291556373256436,
          1.3199752784215093,
          -1.2673599227844208,
          -0.6826059343656743,
          -1.4207085003989115,
          -2.6777153697521063,
          -1.8779901853546386,
          -1.6925933021908992,
          -2.250833016455047,
          2.0969959649927183,
          -2.7271371758248684,
          2.2969846732331862,
          3.277676821898509,
          0.9291075019388877,
          -2.4461834332147796,
          -0.6358595700261558,
          2.1307405772860912,
          2.7116148780888896,
          -3.556581898659751,
          1.5280681342105664,
          2.49799829124545,
          1.3483996523941828,
          -2.933267959073196,
          -0.1739902864530638,
          -2.019637798926681,
          2.2274599346041293,
          1.9430543762789325,
          1.9108799604872115,
          -1.379327902449322,
          2.3336621052869484,
          -1.8777024969677163,
          0.3935536797424275,
          -1.9712551770651825,
          1.840061470036573,
          -1.7561992862288012,
          -2.6690727386599167,
          -1.3545158188589246,
          -3.4218106667418438,
          -2.975873252977333,
          -3.044809194021034,
          0.5925362256234448,
          -1.775315274248114,
          0.6198985417851086,
          -3.103208365721683,
          2.412931454275624,
          2.371145873371309,
          -0.6199086458525485,
          2.489374561227918,
          2.099332305429226,
          -2.0988896531911427,
          1.1607824767773613,
          -0.21113530900788513,
          -0.8391732126214806,
          -2.649277545066007,
          2.3109075655980047,
          -1.6188416151172222,
          -1.1275426717198553,
          2.513267433113356,
          0.9222552220706939,
          3.1581108735000676,
          1.2071271677376558,
          -1.721005837776198,
          1.8419921014210106,
          -3.9982006845321076,
          -1.657274653622296,
          -2.095295532386952,
          -3.4026052717996933,
          4.720169166589619,
          1.673976467832159,
          2.5765569630557663
         ]
        }
       ],
       "layout": {
        "coloraxis": {
         "colorbar": {
          "title": {
           "text": "Cluster Label"
          }
         },
         "colorscale": [
          [
           0,
           "#440154"
          ],
          [
           0.1111111111111111,
           "#482878"
          ],
          [
           0.2222222222222222,
           "#3e4989"
          ],
          [
           0.3333333333333333,
           "#31688e"
          ],
          [
           0.4444444444444444,
           "#26828e"
          ],
          [
           0.5555555555555556,
           "#1f9e89"
          ],
          [
           0.6666666666666666,
           "#35b779"
          ],
          [
           0.7777777777777778,
           "#6ece58"
          ],
          [
           0.8888888888888888,
           "#b5de2b"
          ],
          [
           1,
           "#fde725"
          ]
         ]
        },
        "legend": {
         "tracegroupgap": 0
        },
        "scene": {
         "domain": {
          "x": [
           0,
           1
          ],
          "y": [
           0,
           1
          ]
         },
         "xaxis": {
          "title": {
           "text": "Feature 1"
          }
         },
         "yaxis": {
          "title": {
           "text": "Feature 2"
          }
         },
         "zaxis": {
          "title": {
           "text": "Feature 3"
          }
         }
        },
        "template": {
         "data": {
          "bar": [
           {
            "error_x": {
             "color": "#2a3f5f"
            },
            "error_y": {
             "color": "#2a3f5f"
            },
            "marker": {
             "line": {
              "color": "#E5ECF6",
              "width": 0.5
             },
             "pattern": {
              "fillmode": "overlay",
              "size": 10,
              "solidity": 0.2
             }
            },
            "type": "bar"
           }
          ],
          "barpolar": [
           {
            "marker": {
             "line": {
              "color": "#E5ECF6",
              "width": 0.5
             },
             "pattern": {
              "fillmode": "overlay",
              "size": 10,
              "solidity": 0.2
             }
            },
            "type": "barpolar"
           }
          ],
          "carpet": [
           {
            "aaxis": {
             "endlinecolor": "#2a3f5f",
             "gridcolor": "white",
             "linecolor": "white",
             "minorgridcolor": "white",
             "startlinecolor": "#2a3f5f"
            },
            "baxis": {
             "endlinecolor": "#2a3f5f",
             "gridcolor": "white",
             "linecolor": "white",
             "minorgridcolor": "white",
             "startlinecolor": "#2a3f5f"
            },
            "type": "carpet"
           }
          ],
          "choropleth": [
           {
            "colorbar": {
             "outlinewidth": 0,
             "ticks": ""
            },
            "type": "choropleth"
           }
          ],
          "contour": [
           {
            "colorbar": {
             "outlinewidth": 0,
             "ticks": ""
            },
            "colorscale": [
             [
              0,
              "#0d0887"
             ],
             [
              0.1111111111111111,
              "#46039f"
             ],
             [
              0.2222222222222222,
              "#7201a8"
             ],
             [
              0.3333333333333333,
              "#9c179e"
             ],
             [
              0.4444444444444444,
              "#bd3786"
             ],
             [
              0.5555555555555556,
              "#d8576b"
             ],
             [
              0.6666666666666666,
              "#ed7953"
             ],
             [
              0.7777777777777778,
              "#fb9f3a"
             ],
             [
              0.8888888888888888,
              "#fdca26"
             ],
             [
              1,
              "#f0f921"
             ]
            ],
            "type": "contour"
           }
          ],
          "contourcarpet": [
           {
            "colorbar": {
             "outlinewidth": 0,
             "ticks": ""
            },
            "type": "contourcarpet"
           }
          ],
          "heatmap": [
           {
            "colorbar": {
             "outlinewidth": 0,
             "ticks": ""
            },
            "colorscale": [
             [
              0,
              "#0d0887"
             ],
             [
              0.1111111111111111,
              "#46039f"
             ],
             [
              0.2222222222222222,
              "#7201a8"
             ],
             [
              0.3333333333333333,
              "#9c179e"
             ],
             [
              0.4444444444444444,
              "#bd3786"
             ],
             [
              0.5555555555555556,
              "#d8576b"
             ],
             [
              0.6666666666666666,
              "#ed7953"
             ],
             [
              0.7777777777777778,
              "#fb9f3a"
             ],
             [
              0.8888888888888888,
              "#fdca26"
             ],
             [
              1,
              "#f0f921"
             ]
            ],
            "type": "heatmap"
           }
          ],
          "heatmapgl": [
           {
            "colorbar": {
             "outlinewidth": 0,
             "ticks": ""
            },
            "colorscale": [
             [
              0,
              "#0d0887"
             ],
             [
              0.1111111111111111,
              "#46039f"
             ],
             [
              0.2222222222222222,
              "#7201a8"
             ],
             [
              0.3333333333333333,
              "#9c179e"
             ],
             [
              0.4444444444444444,
              "#bd3786"
             ],
             [
              0.5555555555555556,
              "#d8576b"
             ],
             [
              0.6666666666666666,
              "#ed7953"
             ],
             [
              0.7777777777777778,
              "#fb9f3a"
             ],
             [
              0.8888888888888888,
              "#fdca26"
             ],
             [
              1,
              "#f0f921"
             ]
            ],
            "type": "heatmapgl"
           }
          ],
          "histogram": [
           {
            "marker": {
             "pattern": {
              "fillmode": "overlay",
              "size": 10,
              "solidity": 0.2
             }
            },
            "type": "histogram"
           }
          ],
          "histogram2d": [
           {
            "colorbar": {
             "outlinewidth": 0,
             "ticks": ""
            },
            "colorscale": [
             [
              0,
              "#0d0887"
             ],
             [
              0.1111111111111111,
              "#46039f"
             ],
             [
              0.2222222222222222,
              "#7201a8"
             ],
             [
              0.3333333333333333,
              "#9c179e"
             ],
             [
              0.4444444444444444,
              "#bd3786"
             ],
             [
              0.5555555555555556,
              "#d8576b"
             ],
             [
              0.6666666666666666,
              "#ed7953"
             ],
             [
              0.7777777777777778,
              "#fb9f3a"
             ],
             [
              0.8888888888888888,
              "#fdca26"
             ],
             [
              1,
              "#f0f921"
             ]
            ],
            "type": "histogram2d"
           }
          ],
          "histogram2dcontour": [
           {
            "colorbar": {
             "outlinewidth": 0,
             "ticks": ""
            },
            "colorscale": [
             [
              0,
              "#0d0887"
             ],
             [
              0.1111111111111111,
              "#46039f"
             ],
             [
              0.2222222222222222,
              "#7201a8"
             ],
             [
              0.3333333333333333,
              "#9c179e"
             ],
             [
              0.4444444444444444,
              "#bd3786"
             ],
             [
              0.5555555555555556,
              "#d8576b"
             ],
             [
              0.6666666666666666,
              "#ed7953"
             ],
             [
              0.7777777777777778,
              "#fb9f3a"
             ],
             [
              0.8888888888888888,
              "#fdca26"
             ],
             [
              1,
              "#f0f921"
             ]
            ],
            "type": "histogram2dcontour"
           }
          ],
          "mesh3d": [
           {
            "colorbar": {
             "outlinewidth": 0,
             "ticks": ""
            },
            "type": "mesh3d"
           }
          ],
          "parcoords": [
           {
            "line": {
             "colorbar": {
              "outlinewidth": 0,
              "ticks": ""
             }
            },
            "type": "parcoords"
           }
          ],
          "pie": [
           {
            "automargin": true,
            "type": "pie"
           }
          ],
          "scatter": [
           {
            "fillpattern": {
             "fillmode": "overlay",
             "size": 10,
             "solidity": 0.2
            },
            "type": "scatter"
           }
          ],
          "scatter3d": [
           {
            "line": {
             "colorbar": {
              "outlinewidth": 0,
              "ticks": ""
             }
            },
            "marker": {
             "colorbar": {
              "outlinewidth": 0,
              "ticks": ""
             }
            },
            "type": "scatter3d"
           }
          ],
          "scattercarpet": [
           {
            "marker": {
             "colorbar": {
              "outlinewidth": 0,
              "ticks": ""
             }
            },
            "type": "scattercarpet"
           }
          ],
          "scattergeo": [
           {
            "marker": {
             "colorbar": {
              "outlinewidth": 0,
              "ticks": ""
             }
            },
            "type": "scattergeo"
           }
          ],
          "scattergl": [
           {
            "marker": {
             "colorbar": {
              "outlinewidth": 0,
              "ticks": ""
             }
            },
            "type": "scattergl"
           }
          ],
          "scattermapbox": [
           {
            "marker": {
             "colorbar": {
              "outlinewidth": 0,
              "ticks": ""
             }
            },
            "type": "scattermapbox"
           }
          ],
          "scatterpolar": [
           {
            "marker": {
             "colorbar": {
              "outlinewidth": 0,
              "ticks": ""
             }
            },
            "type": "scatterpolar"
           }
          ],
          "scatterpolargl": [
           {
            "marker": {
             "colorbar": {
              "outlinewidth": 0,
              "ticks": ""
             }
            },
            "type": "scatterpolargl"
           }
          ],
          "scatterternary": [
           {
            "marker": {
             "colorbar": {
              "outlinewidth": 0,
              "ticks": ""
             }
            },
            "type": "scatterternary"
           }
          ],
          "surface": [
           {
            "colorbar": {
             "outlinewidth": 0,
             "ticks": ""
            },
            "colorscale": [
             [
              0,
              "#0d0887"
             ],
             [
              0.1111111111111111,
              "#46039f"
             ],
             [
              0.2222222222222222,
              "#7201a8"
             ],
             [
              0.3333333333333333,
              "#9c179e"
             ],
             [
              0.4444444444444444,
              "#bd3786"
             ],
             [
              0.5555555555555556,
              "#d8576b"
             ],
             [
              0.6666666666666666,
              "#ed7953"
             ],
             [
              0.7777777777777778,
              "#fb9f3a"
             ],
             [
              0.8888888888888888,
              "#fdca26"
             ],
             [
              1,
              "#f0f921"
             ]
            ],
            "type": "surface"
           }
          ],
          "table": [
           {
            "cells": {
             "fill": {
              "color": "#EBF0F8"
             },
             "line": {
              "color": "white"
             }
            },
            "header": {
             "fill": {
              "color": "#C8D4E3"
             },
             "line": {
              "color": "white"
             }
            },
            "type": "table"
           }
          ]
         },
         "layout": {
          "annotationdefaults": {
           "arrowcolor": "#2a3f5f",
           "arrowhead": 0,
           "arrowwidth": 1
          },
          "autotypenumbers": "strict",
          "coloraxis": {
           "colorbar": {
            "outlinewidth": 0,
            "ticks": ""
           }
          },
          "colorscale": {
           "diverging": [
            [
             0,
             "#8e0152"
            ],
            [
             0.1,
             "#c51b7d"
            ],
            [
             0.2,
             "#de77ae"
            ],
            [
             0.3,
             "#f1b6da"
            ],
            [
             0.4,
             "#fde0ef"
            ],
            [
             0.5,
             "#f7f7f7"
            ],
            [
             0.6,
             "#e6f5d0"
            ],
            [
             0.7,
             "#b8e186"
            ],
            [
             0.8,
             "#7fbc41"
            ],
            [
             0.9,
             "#4d9221"
            ],
            [
             1,
             "#276419"
            ]
           ],
           "sequential": [
            [
             0,
             "#0d0887"
            ],
            [
             0.1111111111111111,
             "#46039f"
            ],
            [
             0.2222222222222222,
             "#7201a8"
            ],
            [
             0.3333333333333333,
             "#9c179e"
            ],
            [
             0.4444444444444444,
             "#bd3786"
            ],
            [
             0.5555555555555556,
             "#d8576b"
            ],
            [
             0.6666666666666666,
             "#ed7953"
            ],
            [
             0.7777777777777778,
             "#fb9f3a"
            ],
            [
             0.8888888888888888,
             "#fdca26"
            ],
            [
             1,
             "#f0f921"
            ]
           ],
           "sequentialminus": [
            [
             0,
             "#0d0887"
            ],
            [
             0.1111111111111111,
             "#46039f"
            ],
            [
             0.2222222222222222,
             "#7201a8"
            ],
            [
             0.3333333333333333,
             "#9c179e"
            ],
            [
             0.4444444444444444,
             "#bd3786"
            ],
            [
             0.5555555555555556,
             "#d8576b"
            ],
            [
             0.6666666666666666,
             "#ed7953"
            ],
            [
             0.7777777777777778,
             "#fb9f3a"
            ],
            [
             0.8888888888888888,
             "#fdca26"
            ],
            [
             1,
             "#f0f921"
            ]
           ]
          },
          "colorway": [
           "#636efa",
           "#EF553B",
           "#00cc96",
           "#ab63fa",
           "#FFA15A",
           "#19d3f3",
           "#FF6692",
           "#B6E880",
           "#FF97FF",
           "#FECB52"
          ],
          "font": {
           "color": "#2a3f5f"
          },
          "geo": {
           "bgcolor": "white",
           "lakecolor": "white",
           "landcolor": "#E5ECF6",
           "showlakes": true,
           "showland": true,
           "subunitcolor": "white"
          },
          "hoverlabel": {
           "align": "left"
          },
          "hovermode": "closest",
          "mapbox": {
           "style": "light"
          },
          "paper_bgcolor": "white",
          "plot_bgcolor": "#E5ECF6",
          "polar": {
           "angularaxis": {
            "gridcolor": "white",
            "linecolor": "white",
            "ticks": ""
           },
           "bgcolor": "#E5ECF6",
           "radialaxis": {
            "gridcolor": "white",
            "linecolor": "white",
            "ticks": ""
           }
          },
          "scene": {
           "xaxis": {
            "backgroundcolor": "#E5ECF6",
            "gridcolor": "white",
            "gridwidth": 2,
            "linecolor": "white",
            "showbackground": true,
            "ticks": "",
            "zerolinecolor": "white"
           },
           "yaxis": {
            "backgroundcolor": "#E5ECF6",
            "gridcolor": "white",
            "gridwidth": 2,
            "linecolor": "white",
            "showbackground": true,
            "ticks": "",
            "zerolinecolor": "white"
           },
           "zaxis": {
            "backgroundcolor": "#E5ECF6",
            "gridcolor": "white",
            "gridwidth": 2,
            "linecolor": "white",
            "showbackground": true,
            "ticks": "",
            "zerolinecolor": "white"
           }
          },
          "shapedefaults": {
           "line": {
            "color": "#2a3f5f"
           }
          },
          "ternary": {
           "aaxis": {
            "gridcolor": "white",
            "linecolor": "white",
            "ticks": ""
           },
           "baxis": {
            "gridcolor": "white",
            "linecolor": "white",
            "ticks": ""
           },
           "bgcolor": "#E5ECF6",
           "caxis": {
            "gridcolor": "white",
            "linecolor": "white",
            "ticks": ""
           }
          },
          "title": {
           "x": 0.05
          },
          "xaxis": {
           "automargin": true,
           "gridcolor": "white",
           "linecolor": "white",
           "ticks": "",
           "title": {
            "standoff": 15
           },
           "zerolinecolor": "white",
           "zerolinewidth": 2
          },
          "yaxis": {
           "automargin": true,
           "gridcolor": "white",
           "linecolor": "white",
           "ticks": "",
           "title": {
            "standoff": 15
           },
           "zerolinecolor": "white",
           "zerolinewidth": 2
          }
         }
        },
        "title": {
         "text": "Generated 3D Data"
        }
       }
      }
     },
     "metadata": {},
     "output_type": "display_data"
    }
   ],
   "source": [
    "import numpy as np\n",
    "from sklearn.datasets import make_blobs\n",
    "\n",
    "\n",
    "\n",
    "\n",
    "fig = px.scatter_3d(\n",
    "    df,\n",
    "    x=\"Feature 1\",\n",
    "    y=\"Feature 2\",\n",
    "    z=\"Feature 3\",\n",
    "    color=\"Cluster\",\n",
    "    title=\"Generated 3D Data\",\n",
    "    labels={\"Cluster\": \"Cluster Label\"},\n",
    "    color_continuous_scale=\"Viridis\",\n",
    ")\n",
    "\n",
    "fig.update_traces(marker=dict(size=5))\n",
    "fig.show()\n"
   ]
  },
  {
   "cell_type": "code",
   "execution_count": 23,
   "id": "eedc4fe8",
   "metadata": {},
   "outputs": [
    {
     "data": {
      "image/png": "[encoded data removed]",
      "text/plain": [
       "<Figure size 800x600 with 1 Axes>"
      ]
     },
     "metadata": {},
     "output_type": "display_data"
    }
   ],
   "source": [
    "import matplotlib.pyplot as plt\n",
    "# Apply PCA to reduce to 2D\n",
    "pca = PCA(n_components=2)\n",
    "X_reduced = pca.fit_transform(X)\n",
    "\n",
    "# Visualize the 2D data\n",
    "plt.figure(figsize=(8, 6))\n",
    "plt.scatter(X_reduced[:, 0], X_reduced[:, 1], c=y, cmap='viridis', s=50)\n",
    "plt.title(\"2D Data after PCA\")\n",
    "plt.xlabel(\"Principal Component 1\")\n",
    "plt.ylabel(\"Principal Component 2\")\n",
    "plt.show()\n"
   ]
  }
 ],
 "metadata": {
  "kernelspec": {
   "display_name": "Python 3",
   "language": "python",
   "name": "python3"
  },
  "language_info": {
   "codemirror_mode": {
    "name": "ipython",
    "version": 3
   },
   "file_extension": ".py",
   "mimetype": "text/x-python",
   "name": "python",
   "nbconvert_exporter": "python",
   "pygments_lexer": "ipython3",
   "version": "3.12.1"
  },
  "papermill": {
   "default_parameters": {},
   "duration": 15.107607,
   "end_time": "2022-09-03T12:35:25.557740",
   "environment_variables": {},
   "exception": null,
   "input_path": "__notebook__.ipynb",
   "output_path": "__notebook__.ipynb",
   "parameters": {},
   "start_time": "2022-09-03T12:35:10.450133",
   "version": "2.3.4"
  }
 },
 "nbformat": 4,
 "nbformat_minor": 5
}
